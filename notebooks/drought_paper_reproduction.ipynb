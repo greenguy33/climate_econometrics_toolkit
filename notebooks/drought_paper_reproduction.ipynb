{
 "cells": [
  {
   "cell_type": "code",
   "execution_count": 1,
   "id": "040346d4-8ac5-4ec8-8077-e206cc11afde",
   "metadata": {},
   "outputs": [
    {
     "name": "stderr",
     "output_type": "stream",
     "text": [
      "/home/hayden-freedman/.local/lib/python3.10/site-packages/pandas/core/arrays/masked.py:60: UserWarning: Pandas requires version '1.3.6' or newer of 'bottleneck' (version '1.3.2' currently installed).\n",
      "  from pandas.core import (\n",
      "/home/hayden-freedman/.local/lib/python3.10/site-packages/matplotlib/projections/__init__.py:63: UserWarning: Unable to import Axes3D. This may be due to multiple versions of Matplotlib being installed (e.g. as a system package and as a pip package). As a result, the 3D projection is not available.\n",
      "  warnings.warn(\"Unable to import Axes3D. This may be due to multiple versions of \"\n"
     ]
    },
    {
     "data": {
      "text/html": [
       "\n",
       "            <div id=\"6pnCfv\"></div>\n",
       "            <script type=\"text/javascript\" data-lets-plot-script=\"library\">\n",
       "                if(!window.letsPlotCallQueue) {\n",
       "                    window.letsPlotCallQueue = [];\n",
       "                }; \n",
       "                window.letsPlotCall = function(f) {\n",
       "                    window.letsPlotCallQueue.push(f);\n",
       "                };\n",
       "                (function() {\n",
       "                    var script = document.createElement(\"script\");\n",
       "                    script.type = \"text/javascript\";\n",
       "                    script.src = \"https://cdn.jsdelivr.net/gh/JetBrains/lets-plot@v4.3.3/js-package/distr/lets-plot.min.js\";\n",
       "                    script.onload = function() {\n",
       "                        window.letsPlotCall = function(f) {f();};\n",
       "                        window.letsPlotCallQueue.forEach(function(f) {f();});\n",
       "                        window.letsPlotCallQueue = [];\n",
       "                        \n",
       "                    };\n",
       "                    script.onerror = function(event) {\n",
       "                        window.letsPlotCall = function(f) {};    // noop\n",
       "                        window.letsPlotCallQueue = [];\n",
       "                        var div = document.createElement(\"div\");\n",
       "                        div.style.color = 'darkred';\n",
       "                        div.textContent = 'Error loading Lets-Plot JS';\n",
       "                        document.getElementById(\"6pnCfv\").appendChild(div);\n",
       "                    };\n",
       "                    var e = document.getElementById(\"6pnCfv\");\n",
       "                    e.appendChild(script);\n",
       "                })()\n",
       "            </script>\n",
       "            "
      ]
     },
     "metadata": {},
     "output_type": "display_data"
    },
    {
     "data": {
      "text/html": [
       "\n",
       "            <div id=\"wPkmhx\"></div>\n",
       "            <script type=\"text/javascript\" data-lets-plot-script=\"library\">\n",
       "                if(!window.letsPlotCallQueue) {\n",
       "                    window.letsPlotCallQueue = [];\n",
       "                }; \n",
       "                window.letsPlotCall = function(f) {\n",
       "                    window.letsPlotCallQueue.push(f);\n",
       "                };\n",
       "                (function() {\n",
       "                    var script = document.createElement(\"script\");\n",
       "                    script.type = \"text/javascript\";\n",
       "                    script.src = \"https://cdn.jsdelivr.net/gh/JetBrains/lets-plot@v4.3.3/js-package/distr/lets-plot.min.js\";\n",
       "                    script.onload = function() {\n",
       "                        window.letsPlotCall = function(f) {f();};\n",
       "                        window.letsPlotCallQueue.forEach(function(f) {f();});\n",
       "                        window.letsPlotCallQueue = [];\n",
       "                        \n",
       "                    };\n",
       "                    script.onerror = function(event) {\n",
       "                        window.letsPlotCall = function(f) {};    // noop\n",
       "                        window.letsPlotCallQueue = [];\n",
       "                        var div = document.createElement(\"div\");\n",
       "                        div.style.color = 'darkred';\n",
       "                        div.textContent = 'Error loading Lets-Plot JS';\n",
       "                        document.getElementById(\"wPkmhx\").appendChild(div);\n",
       "                    };\n",
       "                    var e = document.getElementById(\"wPkmhx\");\n",
       "                    e.appendChild(script);\n",
       "                })()\n",
       "            </script>\n",
       "            "
      ]
     },
     "metadata": {},
     "output_type": "display_data"
    },
    {
     "name": "stderr",
     "output_type": "stream",
     "text": [
      "WARNING (pytensor.tensor.blas): Using NumPy C-API based implementation for BLAS functions.\n"
     ]
    }
   ],
   "source": [
    "import os\n",
    "import pandas as pd\n",
    "import numpy as np\n",
    "import climate_econometrics_toolkit.user_api as api\n",
    "from countrycode import countrycode as cc"
   ]
  },
  {
   "cell_type": "code",
   "execution_count": 2,
   "id": "65097335-bac1-44d7-ba36-a873a51c1605",
   "metadata": {},
   "outputs": [],
   "source": [
    "cet_home = os.getenv(\"CETHOME\")\n",
    "reproduction_dir = \"../../hierarchical_bayesian_drought_study_code/\""
   ]
  },
  {
   "cell_type": "markdown",
   "id": "4be5c86f-8864-47fa-a337-22f8a6c9c500",
   "metadata": {},
   "source": [
    "# Step 1: Construct dataset"
   ]
  },
  {
   "cell_type": "code",
   "execution_count": 49,
   "id": "9ebae098-58ef-401a-859b-c5c181e39cd5",
   "metadata": {},
   "outputs": [],
   "source": [
    "tfp_data = pd.read_csv(f\"{reproduction_dir}/data/TFP/AgTFPInternational2021_AG_TFP.csv\", header=2)\n",
    "# use former Sudan as Sudan\n",
    "tfp_data = tfp_data.loc[tfp_data[\"Country/territory\"] != \"Sudan\"]\n",
    "natural_disasters_data = pd.read_csv(f\"{reproduction_dir}/data/natural_disasters/emdat_1960-2024.csv\")\n",
    "countries_with_natural_disaster_data = set(natural_disasters_data.ISO)"
   ]
  },
  {
   "cell_type": "code",
   "execution_count": 50,
   "id": "c0263d30-b914-4fea-ac8d-8fbc4711b90a",
   "metadata": {
    "scrolled": true
   },
   "outputs": [],
   "source": [
    "# pre-process natural disasters data\n",
    "nd_data = {}\n",
    "for row in natural_disasters_data.iterrows():\n",
    "    row = row[1]\n",
    "    if row[\"ISO\"] not in nd_data:\n",
    "        nd_data[row[\"ISO\"]] = []\n",
    "    if row[\"Disaster Type\"] == \"Drought\":\n",
    "        if row[\"Start Year\"] == row[\"End Year\"]:\n",
    "            nd_data[row[\"ISO\"]].append(row[\"Start Year\"])\n",
    "        else:\n",
    "            for year in range(row[\"Start Year\"], row[\"End Year\"]):\n",
    "                nd_data[row[\"ISO\"]].append(int(year))"
   ]
  },
  {
   "cell_type": "code",
   "execution_count": 51,
   "id": "62bf785d-f93f-49bc-9ae3-58aa36eef4b0",
   "metadata": {
    "collapsed": true,
    "jupyter": {
     "outputs_hidden": true
    }
   },
   "outputs": [
    {
     "name": "stderr",
     "output_type": "stream",
     "text": [
      "Warning 1: Latitude grid not spaced evenly.  Setting projection for grid spacing is within 0.1 degrees threshold.\n",
      "/home/hayden-freedman/.local/lib/python3.10/site-packages/climate_econometrics_toolkit/prediction.py:46: RuntimeWarning: Mean of empty slice\n",
      "  data.append([geo, period, np.nanmean(agg_mean)])\n",
      "Warning 1: Latitude grid not spaced evenly.  Setting projection for grid spacing is within 0.1 degrees threshold.\n"
     ]
    }
   ],
   "source": [
    "ag_raster = f\"{reproduction_dir}/data/CroplandPastureArea2000_Geotiff/Cropland2000_5m_resampled.tif\"\n",
    "shape_file = f\"{reproduction_dir}/data/country_shapes/country.shp\"\n",
    "\n",
    "temp_raster = f\"{reproduction_dir}/data/temp/monthly/shifted/air.2m.mon.mean.shifted.nc\"\n",
    "extracted_temp_data = api.extract_raster_data(temp_raster, shape_file, ag_raster)\n",
    "temp_data = api.aggregate_raster_data(extracted_temp_data, shape_file, \"temp\", \"mean\", \"FIPS_CNTRY\", 12)\n",
    "temp_data[\"country\"] = cc(temp_data[\"FIPS_CNTRY\"], origin=\"fips\", destination=\"iso3c\")\n",
    "# update time column to reflect real year\n",
    "temp_data[\"time\"] = temp_data[\"time\"] + 1948\n",
    "\n",
    "precip_raster = f\"{reproduction_dir}/data/precip/monthly/shifted/prate.mon.mean.shifted.nc\"\n",
    "extracted_precip_data = api.extract_raster_data(precip_raster, shape_file, ag_raster)\n",
    "precip_data = api.aggregate_raster_data_to_year_level(extracted_precip_data, shape_file, \"precip\", \"sum\", \"FIPS_CNTRY\", 12)\n",
    "precip_data[\"country\"] = cc(precip_data[\"FIPS_CNTRY\"], origin=\"fips\", destination=\"iso3c\")\n",
    "# update time column to reflect real year\n",
    "precip_data[\"time\"] = precip_data[\"time\"] + 1948"
   ]
  },
  {
   "cell_type": "code",
   "execution_count": 52,
   "id": "c628750f-e003-4d86-a6f6-94d8f4f375c1",
   "metadata": {},
   "outputs": [],
   "source": [
    "reg_data = {\"year\":[],\"iso3\":[],\"tfp\":[],\"temp\":[],\"precip\":[],\"drought\":[]}\n",
    "for country in set(temp_data[\"country\"]):\n",
    "    if country is not None and country in countries_with_natural_disaster_data:\n",
    "        for year in range(1961,2022):\n",
    "            reg_data[\"year\"].append(year)\n",
    "            reg_data[\"iso3\"].append(country)\n",
    "            try:\n",
    "                reg_data[\"tfp\"].append(tfp_data.loc[tfp_data[\"ISO3\"]==country][str(year)].item())\n",
    "            except ValueError:\n",
    "                reg_data[\"tfp\"].append(np.NaN)\n",
    "            # celsius to kelvin\n",
    "            reg_data[\"temp\"].append(temp_data.loc[(temp_data.time == year) & (temp_data.country == country)][\"temp\"].item()-273.15)\n",
    "            # precipitation rate per second to total monthly precipitation (X by approx. # of seconds in a month)\n",
    "            reg_data[\"precip\"].append(precip_data.loc[(precip_data.time == year) & (precip_data.country == country)][\"precip\"].item()*2.628e+6)\n",
    "            reg_data[\"drought\"].append(1 if year in nd_data[country] else 0)"
   ]
  },
  {
   "cell_type": "code",
   "execution_count": 54,
   "id": "d0d51f72-810c-4a21-99ff-332591f2a9e8",
   "metadata": {},
   "outputs": [],
   "source": [
    "pd.DataFrame.from_dict(reg_data).sort_values([\"iso3\",\"year\"]).to_csv(f\"{reproduction_dir}/data/regression/CET_tfp_regression_dataset.csv\")"
   ]
  },
  {
   "cell_type": "markdown",
   "id": "469a83d9-05b4-4dad-a565-52d05420da3f",
   "metadata": {},
   "source": [
    "# Step 2: Build Model"
   ]
  },
  {
   "cell_type": "code",
   "execution_count": 81,
   "id": "1bdf5f8a-9d49-42e4-96c3-b794df9eaaca",
   "metadata": {},
   "outputs": [
    {
     "name": "stderr",
     "output_type": "stream",
     "text": [
      "/home/hayden-freedman/.local/lib/python3.10/site-packages/statsmodels/regression/mixed_linear_model.py:2237: ConvergenceWarning: The MLE may be on the boundary of the parameter space.\n",
      "  warnings.warn(msg, ConvergenceWarning)\n",
      "/home/hayden-freedman/.local/lib/python3.10/site-packages/statsmodels/regression/mixed_linear_model.py:2237: ConvergenceWarning: The MLE may be on the boundary of the parameter space.\n",
      "  warnings.warn(msg, ConvergenceWarning)\n",
      "/home/hayden-freedman/.local/lib/python3.10/site-packages/statsmodels/regression/mixed_linear_model.py:2237: ConvergenceWarning: The MLE may be on the boundary of the parameter space.\n",
      "  warnings.warn(msg, ConvergenceWarning)\n",
      "/home/hayden-freedman/.local/lib/python3.10/site-packages/statsmodels/regression/mixed_linear_model.py:2237: ConvergenceWarning: The MLE may be on the boundary of the parameter space.\n",
      "  warnings.warn(msg, ConvergenceWarning)\n",
      "/home/hayden-freedman/.local/lib/python3.10/site-packages/statsmodels/regression/mixed_linear_model.py:2237: ConvergenceWarning: The MLE may be on the boundary of the parameter space.\n",
      "  warnings.warn(msg, ConvergenceWarning)\n",
      "/home/hayden-freedman/.local/lib/python3.10/site-packages/statsmodels/base/model.py:607: ConvergenceWarning: Maximum Likelihood optimization failed to converge. Check mle_retvals\n",
      "  warnings.warn(\"Maximum Likelihood optimization failed to \"\n",
      "/home/hayden-freedman/.local/lib/python3.10/site-packages/statsmodels/regression/mixed_linear_model.py:2200: ConvergenceWarning: Retrying MixedLM optimization with lbfgs\n",
      "  warnings.warn(\n",
      "/home/hayden-freedman/.local/lib/python3.10/site-packages/statsmodels/regression/mixed_linear_model.py:2237: ConvergenceWarning: The MLE may be on the boundary of the parameter space.\n",
      "  warnings.warn(msg, ConvergenceWarning)\n",
      "/home/hayden-freedman/.local/lib/python3.10/site-packages/statsmodels/regression/mixed_linear_model.py:2237: ConvergenceWarning: The MLE may be on the boundary of the parameter space.\n",
      "  warnings.warn(msg, ConvergenceWarning)\n",
      "/home/hayden-freedman/.local/lib/python3.10/site-packages/statsmodels/regression/mixed_linear_model.py:2237: ConvergenceWarning: The MLE may be on the boundary of the parameter space.\n",
      "  warnings.warn(msg, ConvergenceWarning)\n",
      "/home/hayden-freedman/.local/lib/python3.10/site-packages/statsmodels/regression/mixed_linear_model.py:2237: ConvergenceWarning: The MLE may be on the boundary of the parameter space.\n",
      "  warnings.warn(msg, ConvergenceWarning)\n",
      "/home/hayden-freedman/.local/lib/python3.10/site-packages/statsmodels/regression/mixed_linear_model.py:2237: ConvergenceWarning: The MLE may be on the boundary of the parameter space.\n",
      "  warnings.warn(msg, ConvergenceWarning)\n",
      "/home/hayden-freedman/.local/lib/python3.10/site-packages/statsmodels/regression/mixed_linear_model.py:2237: ConvergenceWarning: The MLE may be on the boundary of the parameter space.\n",
      "  warnings.warn(msg, ConvergenceWarning)\n"
     ]
    },
    {
     "name": "stdout",
     "output_type": "stream",
     "text": [
      "Intercept      -0.002554\n",
      "temp            0.000857\n",
      "sq_temp_       -0.000032\n",
      "fe_1963_year    0.001085\n",
      "fe_1964_year    0.011315\n",
      "fe_1965_year   -0.002404\n",
      "fe_1966_year    0.000100\n",
      "fe_1967_year    0.014056\n",
      "fe_1968_year   -0.003547\n",
      "fe_1969_year   -0.004339\n",
      "fe_1970_year    0.005468\n",
      "fe_1971_year    0.005136\n",
      "fe_1972_year   -0.019915\n",
      "fe_1973_year   -0.002804\n",
      "fe_1974_year    0.025285\n",
      "fe_1975_year   -0.008112\n",
      "fe_1976_year   -0.005341\n",
      "fe_1977_year   -0.000296\n",
      "fe_1978_year    0.016603\n",
      "fe_1979_year   -0.006669\n",
      "fe_1980_year    0.006148\n",
      "fe_1981_year    0.006433\n",
      "fe_1982_year    0.008756\n",
      "fe_1983_year   -0.013095\n",
      "fe_1984_year    0.013526\n",
      "fe_1985_year    0.010280\n",
      "fe_1986_year    0.010710\n",
      "fe_1987_year   -0.006988\n",
      "fe_1988_year    0.007459\n",
      "fe_1989_year    0.019218\n",
      "fe_1990_year    0.013513\n",
      "fe_1991_year    0.001422\n",
      "fe_1992_year   -0.004423\n",
      "fe_1993_year    0.018012\n",
      "fe_1994_year   -0.007239\n",
      "fe_1995_year    0.023120\n",
      "fe_1996_year    0.016863\n",
      "fe_1997_year   -0.006764\n",
      "fe_1998_year    0.006307\n",
      "fe_1999_year    0.016625\n",
      "fe_2000_year    0.000525\n",
      "fe_2001_year    0.007777\n",
      "fe_2002_year   -0.002408\n",
      "fe_2003_year    0.014185\n",
      "fe_2004_year    0.019857\n",
      "fe_2005_year    0.007802\n",
      "fe_2006_year    0.006153\n",
      "fe_2007_year    0.002399\n",
      "fe_2008_year    0.020760\n",
      "fe_2009_year    0.013958\n",
      "fe_2010_year   -0.005530\n",
      "fe_2011_year    0.017254\n",
      "fe_2012_year    0.003240\n",
      "fe_2013_year    0.012927\n",
      "fe_2014_year   -0.003555\n",
      "fe_2015_year    0.013684\n",
      "fe_2016_year   -0.001973\n",
      "fe_2017_year    0.006270\n",
      "fe_2018_year   -0.001180\n",
      "fe_2019_year    0.006470\n",
      "fe_2020_year    0.009575\n",
      "fe_2021_year    0.005999\n",
      "drought Var     0.024914\n",
      "dtype: float64\n",
      "Model ID: 1740770501.0356405\n",
      "target_var : fd(ln(tfp))\n",
      "covariates : ['temp', 'sq(temp)']\n",
      "fixed_effects : ['year']\n",
      "random_effects : ['drought', 'iso3']\n",
      "time_trends : []\n",
      "time_column : year\n",
      "panel_column : iso3\n",
      "out_sample_mse : 0.007102756397691268\n",
      "out_sample_mse_reduction : 0.0007437892785519378\n",
      "out_sample_pred_int_cov : nan\n",
      "r2 : nan\n",
      "rmse : 0.08427785235571246\n",
      "model_id : 1740770501.0356405\n"
     ]
    }
   ],
   "source": [
    "api.load_dataset_from_file(f\"{reproduction_dir}/data/regression/CET_tfp_regression_dataset.csv\")\n",
    "api.set_target_variable(\"tfp\")\n",
    "api.set_time_column(\"year\")\n",
    "api.set_panel_column(\"iso3\")\n",
    "api.add_covariates(\"temp\")\n",
    "\n",
    "api.add_transformation(\"tfp\", [\"ln\", \"fd\"])\n",
    "api.add_transformation(\"temp\", \"sq\")\n",
    "\n",
    "api.add_fixed_effects(\"year\")\n",
    "api.add_random_effect(\"drought\", \"iso3\")\n",
    "\n",
    "model_id = api.evaluate_model()\n",
    "\n",
    "api.view_current_model()"
   ]
  },
  {
   "cell_type": "code",
   "execution_count": 82,
   "id": "ba590918-7041-48d5-be6c-74f37d683fc2",
   "metadata": {},
   "outputs": [
    {
     "name": "stdout",
     "output_type": "stream",
     "text": [
      "Fitting Bayesian model to dataset of length 9417 containing variables:  ['temp', 'sq(temp)', 'fe_1963_year', 'fe_1964_year', 'fe_1965_year', 'fe_1966_year', 'fe_1967_year', 'fe_1968_year', 'fe_1969_year', 'fe_1970_year', 'fe_1971_year', 'fe_1972_year', 'fe_1973_year', 'fe_1974_year', 'fe_1975_year', 'fe_1976_year', 'fe_1977_year', 'fe_1978_year', 'fe_1979_year', 'fe_1980_year', 'fe_1981_year', 'fe_1982_year', 'fe_1983_year', 'fe_1984_year', 'fe_1985_year', 'fe_1986_year', 'fe_1987_year', 'fe_1988_year', 'fe_1989_year', 'fe_1990_year', 'fe_1991_year', 'fe_1992_year', 'fe_1993_year', 'fe_1994_year', 'fe_1995_year', 'fe_1996_year', 'fe_1997_year', 'fe_1998_year', 'fe_1999_year', 'fe_2000_year', 'fe_2001_year', 'fe_2002_year', 'fe_2003_year', 'fe_2004_year', 'fe_2005_year', 'fe_2006_year', 'fe_2007_year', 'fe_2008_year', 'fe_2009_year', 'fe_2010_year', 'fe_2011_year', 'fe_2012_year', 'fe_2013_year', 'fe_2014_year', 'fe_2015_year', 'fe_2016_year', 'fe_2017_year', 'fe_2018_year', 'fe_2019_year', 'fe_2020_year', 'fe_2021_year']\n"
     ]
    },
    {
     "name": "stderr",
     "output_type": "stream",
     "text": [
      "Sampling: [covar_coefs, global_rs_mean, global_rs_sd, intercept, rs_coefs, rs_means, rs_sd, target_posterior, target_scale, target_std]\n",
      "Auto-assigning NUTS sampler...\n",
      "Initializing NUTS using jitter+adapt_diag...\n",
      "Multiprocess sampling (4 chains in 4 jobs)\n",
      "NUTS: [covar_coefs, intercept, global_rs_mean, global_rs_sd, rs_means, rs_sd, rs_coefs, target_scale, target_std]\n"
     ]
    },
    {
     "data": {
      "text/html": [
       "\n",
       "<style>\n",
       "    /* Turns off some styling */\n",
       "    progress {\n",
       "        /* gets rid of default border in Firefox and Opera. */\n",
       "        border: none;\n",
       "        /* Needs to be in here for Safari polyfill so background images work as expected. */\n",
       "        background-size: auto;\n",
       "    }\n",
       "    progress:not([value]), progress:not([value])::-webkit-progress-bar {\n",
       "        background: repeating-linear-gradient(45deg, #7e7e7e, #7e7e7e 10px, #5c5c5c 10px, #5c5c5c 20px);\n",
       "    }\n",
       "    .progress-bar-interrupted, .progress-bar-interrupted::-webkit-progress-bar {\n",
       "        background: #F44336;\n",
       "    }\n",
       "</style>\n"
      ],
      "text/plain": [
       "<IPython.core.display.HTML object>"
      ]
     },
     "metadata": {},
     "output_type": "display_data"
    },
    {
     "data": {
      "text/html": [
       "\n",
       "    <div>\n",
       "      <progress value='80' class='' max='8000' style='width:300px; height:20px; vertical-align: middle;'></progress>\n",
       "      1.00% [80/8000 04:27&lt;7:22:01 Sampling 4 chains, 0 divergences]\n",
       "    </div>\n",
       "    "
      ],
      "text/plain": [
       "<IPython.core.display.HTML object>"
      ]
     },
     "metadata": {},
     "output_type": "display_data"
    },
    {
     "name": "stderr",
     "output_type": "stream",
     "text": [
      "\n",
      "KeyboardInterrupt\n",
      "\n"
     ]
    }
   ],
   "source": [
    "api.run_bayesian_regression(model_id, 1000)"
   ]
  },
  {
   "cell_type": "markdown",
   "id": "0fcb2c07-1409-46fc-b32f-d22cc47be11e",
   "metadata": {},
   "source": [
    "# Step 3: Compute Impacts"
   ]
  },
  {
   "cell_type": "code",
   "execution_count": 94,
   "id": "6c2e78c8-5ee7-4866-ae8b-61aa94eb78de",
   "metadata": {},
   "outputs": [],
   "source": [
    "country_coefficients = pd.read_csv(\"../bayes_samples/coefficient_samples_1740668577.3381717.csv\")"
   ]
  },
  {
   "cell_type": "code",
   "execution_count": 95,
   "id": "d827629e-2259-47e8-919d-0a3b94d31fd7",
   "metadata": {},
   "outputs": [],
   "source": [
    "data = pd.read_csv(f\"{reproduction_dir}/data/regression/CET_tfp_regression_dataset.csv\")"
   ]
  },
  {
   "cell_type": "code",
   "execution_count": 96,
   "id": "bd9eea5a-723f-4393-8011-e18e56d935a6",
   "metadata": {},
   "outputs": [],
   "source": [
    "res = api.call_user_prediction_function(\"multiply_geo_coefficients_by_data_column\", [\"iso3\", \n",
    "    data, \n",
    "    country_coefficients[[col for col in country_coefficients.columns if col.startswith(\"drought_\")]],\n",
    "    \"drought\"])\n",
    "percent_loss_by_country = api.call_user_prediction_function(\"convert_geo_log_loss_to_percent\", [res])"
   ]
  }
 ],
 "metadata": {
  "kernelspec": {
   "display_name": "Python 3 (ipykernel)",
   "language": "python",
   "name": "python3"
  },
  "language_info": {
   "codemirror_mode": {
    "name": "ipython",
    "version": 3
   },
   "file_extension": ".py",
   "mimetype": "text/x-python",
   "name": "python",
   "nbconvert_exporter": "python",
   "pygments_lexer": "ipython3",
   "version": "3.10.12"
  }
 },
 "nbformat": 4,
 "nbformat_minor": 5
}
