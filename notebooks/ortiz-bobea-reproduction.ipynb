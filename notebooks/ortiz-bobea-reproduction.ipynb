{
 "cells": [
  {
   "cell_type": "code",
   "execution_count": 1,
   "id": "2f2f23ef-08cd-4eb2-8b1e-35f3ce42c444",
   "metadata": {},
   "outputs": [
    {
     "name": "stderr",
     "output_type": "stream",
     "text": [
      "/home/hayden-freedman/.local/lib/python3.10/site-packages/pandas/core/arrays/masked.py:60: UserWarning: Pandas requires version '1.3.6' or newer of 'bottleneck' (version '1.3.2' currently installed).\n",
      "  from pandas.core import (\n",
      "/home/hayden-freedman/.local/lib/python3.10/site-packages/matplotlib/projections/__init__.py:63: UserWarning: Unable to import Axes3D. This may be due to multiple versions of Matplotlib being installed (e.g. as a system package and as a pip package). As a result, the 3D projection is not available.\n",
      "  warnings.warn(\"Unable to import Axes3D. This may be due to multiple versions of \"\n"
     ]
    },
    {
     "data": {
      "text/html": [
       "\n",
       "            <div id=\"q8cwU0\"></div>\n",
       "            <script type=\"text/javascript\" data-lets-plot-script=\"library\">\n",
       "                if(!window.letsPlotCallQueue) {\n",
       "                    window.letsPlotCallQueue = [];\n",
       "                }; \n",
       "                window.letsPlotCall = function(f) {\n",
       "                    window.letsPlotCallQueue.push(f);\n",
       "                };\n",
       "                (function() {\n",
       "                    var script = document.createElement(\"script\");\n",
       "                    script.type = \"text/javascript\";\n",
       "                    script.src = \"https://cdn.jsdelivr.net/gh/JetBrains/lets-plot@v4.3.3/js-package/distr/lets-plot.min.js\";\n",
       "                    script.onload = function() {\n",
       "                        window.letsPlotCall = function(f) {f();};\n",
       "                        window.letsPlotCallQueue.forEach(function(f) {f();});\n",
       "                        window.letsPlotCallQueue = [];\n",
       "                        \n",
       "                    };\n",
       "                    script.onerror = function(event) {\n",
       "                        window.letsPlotCall = function(f) {};    // noop\n",
       "                        window.letsPlotCallQueue = [];\n",
       "                        var div = document.createElement(\"div\");\n",
       "                        div.style.color = 'darkred';\n",
       "                        div.textContent = 'Error loading Lets-Plot JS';\n",
       "                        document.getElementById(\"q8cwU0\").appendChild(div);\n",
       "                    };\n",
       "                    var e = document.getElementById(\"q8cwU0\");\n",
       "                    e.appendChild(script);\n",
       "                })()\n",
       "            </script>\n",
       "            "
      ]
     },
     "metadata": {},
     "output_type": "display_data"
    },
    {
     "data": {
      "text/html": [
       "\n",
       "            <div id=\"aj0QQf\"></div>\n",
       "            <script type=\"text/javascript\" data-lets-plot-script=\"library\">\n",
       "                if(!window.letsPlotCallQueue) {\n",
       "                    window.letsPlotCallQueue = [];\n",
       "                }; \n",
       "                window.letsPlotCall = function(f) {\n",
       "                    window.letsPlotCallQueue.push(f);\n",
       "                };\n",
       "                (function() {\n",
       "                    var script = document.createElement(\"script\");\n",
       "                    script.type = \"text/javascript\";\n",
       "                    script.src = \"https://cdn.jsdelivr.net/gh/JetBrains/lets-plot@v4.3.3/js-package/distr/lets-plot.min.js\";\n",
       "                    script.onload = function() {\n",
       "                        window.letsPlotCall = function(f) {f();};\n",
       "                        window.letsPlotCallQueue.forEach(function(f) {f();});\n",
       "                        window.letsPlotCallQueue = [];\n",
       "                        \n",
       "                    };\n",
       "                    script.onerror = function(event) {\n",
       "                        window.letsPlotCall = function(f) {};    // noop\n",
       "                        window.letsPlotCallQueue = [];\n",
       "                        var div = document.createElement(\"div\");\n",
       "                        div.style.color = 'darkred';\n",
       "                        div.textContent = 'Error loading Lets-Plot JS';\n",
       "                        document.getElementById(\"aj0QQf\").appendChild(div);\n",
       "                    };\n",
       "                    var e = document.getElementById(\"aj0QQf\");\n",
       "                    e.appendChild(script);\n",
       "                })()\n",
       "            </script>\n",
       "            "
      ]
     },
     "metadata": {},
     "output_type": "display_data"
    },
    {
     "name": "stderr",
     "output_type": "stream",
     "text": [
      "WARNING (pytensor.tensor.blas): Using NumPy C-API based implementation for BLAS functions.\n"
     ]
    }
   ],
   "source": [
    "import os\n",
    "import pandas as pd\n",
    "import numpy as np\n",
    "from osgeo import gdal\n",
    "import climate_econometrics_toolkit.user_api as api\n",
    "from exactextract import exact_extract\n",
    "import geopandas as gpd\n",
    "import math\n",
    "import random\n",
    "import subprocess\n",
    "import matplotlib.pyplot as plt"
   ]
  },
  {
   "cell_type": "code",
   "execution_count": 2,
   "id": "8e82195a-6378-4429-9cd8-3fc9c6c3a2a7",
   "metadata": {},
   "outputs": [],
   "source": [
    "cet_home = os.getenv(\"CETHOME\")\n",
    "reproduction_dir = cet_home + \"/ortiz-bobea-reproduction/\"\n",
    "gcm_data_dir = f\"{reproduction_dir}/processed_gcm_data/\""
   ]
  },
  {
   "cell_type": "markdown",
   "id": "fa5a10a5-d831-44cb-9552-7b44280f2eeb",
   "metadata": {},
   "source": [
    "# Build model with CET"
   ]
  },
  {
   "cell_type": "code",
   "execution_count": 3,
   "id": "a265cfc3-3c64-447f-9086-0e549fbe1d49",
   "metadata": {},
   "outputs": [],
   "source": [
    "api.load_dataset_from_file(\"../data/ortiz_bobea_data.csv\")\n",
    "api.set_target_variable(\"tfp\")\n",
    "api.set_time_column(\"year\")\n",
    "api.set_panel_column(\"ISO3\")"
   ]
  },
  {
   "cell_type": "code",
   "execution_count": 4,
   "id": "6fb840b3-0205-4144-b2fe-bda8f00979f8",
   "metadata": {},
   "outputs": [],
   "source": [
    "# construct model\n",
    "api.add_covariates([\"tmean\", \"prcp\"])\n",
    "api.add_fixed_effects([\"year\",\"ISO3\"])\n",
    "api.add_transformation(\"tfp\", [\"ln\", \"fd\"])\n",
    "api.add_transformation(\"tmean\", \"fd\")\n",
    "api.add_transformation(\"tmean\", [\"sq\", \"fd\"])\n",
    "api.add_transformation(\"prcp\", \"fd\")\n",
    "api.add_transformation(\"prcp\", [\"sq\", \"fd\"])\n",
    "api.remove_covariates([\"tmean\",\"prcp\"])"
   ]
  },
  {
   "cell_type": "code",
   "execution_count": 5,
   "id": "625fe8b9-4361-4992-ae45-7d6b596d3053",
   "metadata": {},
   "outputs": [
    {
     "name": "stdout",
     "output_type": "stream",
     "text": [
      "target_var : fd(ln(tfp))\n",
      "covariates : ['fd(tmean)', 'fd(sq(tmean))', 'fd(prcp)', 'fd(sq(prcp))']\n",
      "fixed_effects : ['year', 'ISO3']\n",
      "random_effects : None\n",
      "time_trends : []\n",
      "time_column : year\n",
      "panel_column : ISO3\n",
      "out_sample_mse : nan\n",
      "out_sample_mse_reduction : nan\n",
      "out_sample_pred_int_cov : nan\n",
      "r2 : nan\n",
      "rmse : nan\n",
      "model_id : None\n"
     ]
    }
   ],
   "source": [
    "api.view_current_model()"
   ]
  },
  {
   "cell_type": "code",
   "execution_count": 6,
   "id": "0fbd7fc8-e6bc-417f-af41-33b91e5bb9cc",
   "metadata": {},
   "outputs": [
    {
     "name": "stderr",
     "output_type": "stream",
     "text": [
      "/home/hayden-freedman/.local/lib/python3.10/site-packages/pyfixest/estimation/demean_.py:229: NumbaWarning: \u001b[1m\u001b[1mThe TBB threading layer requires TBB version 2021 update 6 or later i.e., TBB_INTERFACE_VERSION >= 12060. Found TBB_INTERFACE_VERSION = 12050. The TBB threading layer is disabled.\u001b[0m\u001b[0m\n",
      "  n_threads = nb.get_num_threads()\n"
     ]
    },
    {
     "name": "stdout",
     "output_type": "stream",
     "text": [
      "                      Coef.      Std.Err.             t         P>|t|  \\\n",
      "const         -1.734723e-18  8.626523e-04 -2.010919e-15  1.000000e+00   \n",
      "fd(tmean)     -7.849953e-03  4.701395e-03 -1.669707e+00  9.501175e-02   \n",
      "fd(sq(tmean)) -2.588614e-05  1.242403e-04 -2.083554e-01  8.349561e-01   \n",
      "fd(prcp)       1.812216e-04  3.369585e-05  5.378159e+00  7.712256e-08   \n",
      "fd(sq(prcp))  -1.844869e-07  4.121845e-08 -4.475832e+00  7.704227e-06   \n",
      "\n",
      "                     [0.025        0.975]  \n",
      "const         -1.690993e-03  1.690993e-03  \n",
      "fd(tmean)     -1.706575e-02  1.365840e-03  \n",
      "fd(sq(tmean)) -2.694251e-04  2.176528e-04  \n",
      "fd(prcp)       1.151702e-04  2.472731e-04  \n",
      "fd(sq(prcp))  -2.652843e-07 -1.036894e-07  \n",
      "Model ID: 1740764196.2299063\n"
     ]
    }
   ],
   "source": [
    "model_id = api.evaluate_model()"
   ]
  },
  {
   "cell_type": "code",
   "execution_count": 8,
   "id": "11e966a0-b6e4-41fc-abd2-943686bea950",
   "metadata": {},
   "outputs": [
    {
     "name": "stdout",
     "output_type": "stream",
     "text": [
      "target_var : fd(ln(tfp))\n",
      "covariates : ['fd(tmean)', 'fd(sq(tmean))', 'fd(prcp)', 'fd(sq(prcp))']\n",
      "fixed_effects : ['year', 'ISO3']\n",
      "random_effects : None\n",
      "time_trends : []\n",
      "time_column : year\n",
      "panel_column : ISO3\n",
      "out_sample_mse : 0.006762246791114467\n",
      "out_sample_mse_reduction : 0.009887077539116084\n",
      "out_sample_pred_int_cov : 0.9494639992633622\n",
      "r2 : 0.011\n",
      "rmse : 0.08223288144723172\n",
      "model_id : 1740764196.2299063\n"
     ]
    }
   ],
   "source": [
    "api.get_model_by_id(\"1740764196.2299063\").print()"
   ]
  },
  {
   "cell_type": "markdown",
   "id": "0103ab1c-5507-4ad7-9900-713af7903917",
   "metadata": {},
   "source": [
    "# Bootstrap model for coefficient samples"
   ]
  },
  {
   "cell_type": "code",
   "execution_count": 7,
   "id": "de23864c-89c0-4e57-a48b-b055db43912f",
   "metadata": {},
   "outputs": [
    {
     "name": "stdout",
     "output_type": "stream",
     "text": [
      "Running bootstrap...this may take awhile\n"
     ]
    },
    {
     "name": "stderr",
     "output_type": "stream",
     "text": [
      "\u001b[38;2;0;255;0m100%\u001b[39m \u001b[38;2;0;255;0m(1000 of 1000)\u001b[39m |####################| Elapsed Time: 1:07:02 Time:  1:07:023630\n"
     ]
    }
   ],
   "source": [
    "api.run_block_bootstrap(api.get_model_by_id(model_id), num_samples=1000)"
   ]
  },
  {
   "cell_type": "markdown",
   "id": "2da2a8f5-269f-4d93-a05c-3881414f1855",
   "metadata": {},
   "source": [
    "# Make predictions on GCM data"
   ]
  },
  {
   "cell_type": "code",
   "execution_count": 9,
   "id": "67d2f5bb-7bc1-42d5-af5b-4d90389a17ff",
   "metadata": {},
   "outputs": [
    {
     "ename": "FileNotFoundError",
     "evalue": "[Errno 2] No such file or directory: '/home/hayden-freedman/climate_econometrics_toolkit/ortiz-bobea-reproduction//processed_gcm_data/'",
     "output_type": "error",
     "traceback": [
      "\u001b[0;31m---------------------------------------------------------------------------\u001b[0m",
      "\u001b[0;31mFileNotFoundError\u001b[0m                         Traceback (most recent call last)",
      "Cell \u001b[0;32mIn[9], line 2\u001b[0m\n\u001b[1;32m      1\u001b[0m model \u001b[38;5;241m=\u001b[39m api\u001b[38;5;241m.\u001b[39mget_model_by_id(model_id)\n\u001b[0;32m----> 2\u001b[0m \u001b[38;5;28;01mfor\u001b[39;00m gcm \u001b[38;5;129;01min\u001b[39;00m \u001b[43mos\u001b[49m\u001b[38;5;241;43m.\u001b[39;49m\u001b[43mlistdir\u001b[49m\u001b[43m(\u001b[49m\u001b[43mgcm_data_dir\u001b[49m\u001b[43m)\u001b[49m:\n\u001b[1;32m      3\u001b[0m     \u001b[38;5;28;01mif\u001b[39;00m os\u001b[38;5;241m.\u001b[39mpath\u001b[38;5;241m.\u001b[39misdir(gcm_data_dir \u001b[38;5;241m+\u001b[39m \u001b[38;5;124m\"\u001b[39m\u001b[38;5;124m/\u001b[39m\u001b[38;5;124m\"\u001b[39m \u001b[38;5;241m+\u001b[39m gcm):\n\u001b[1;32m      4\u001b[0m         gcm_data \u001b[38;5;241m=\u001b[39m pd\u001b[38;5;241m.\u001b[39mread_csv(gcm_data_dir \u001b[38;5;241m+\u001b[39m \u001b[38;5;124m\"\u001b[39m\u001b[38;5;124m/\u001b[39m\u001b[38;5;124m\"\u001b[39m \u001b[38;5;241m+\u001b[39m gcm \u001b[38;5;241m+\u001b[39m \u001b[38;5;124m\"\u001b[39m\u001b[38;5;124m/clim_diff.csv\u001b[39m\u001b[38;5;124m\"\u001b[39m)\n",
      "\u001b[0;31mFileNotFoundError\u001b[0m: [Errno 2] No such file or directory: '/home/hayden-freedman/climate_econometrics_toolkit/ortiz-bobea-reproduction//processed_gcm_data/'"
     ]
    }
   ],
   "source": [
    "model = api.get_model_by_id(model_id)\n",
    "for gcm in os.listdir(gcm_data_dir):\n",
    "    if os.path.isdir(gcm_data_dir + \"/\" + gcm):\n",
    "        gcm_data = pd.read_csv(gcm_data_dir + \"/\" + gcm + \"/clim_diff.csv\")\n",
    "        predictions = api.predict_out_of_sample(model, gcm_data)\n",
    "        predictions.to_csv(f\"{reproduction_dir}/predictions/predictions_{model.model_id}_{gcm}.csv\")"
   ]
  },
  {
   "cell_type": "code",
   "execution_count": 7,
   "id": "01a3d9bf-2d76-4116-ac67-b67d15a421af",
   "metadata": {},
   "outputs": [
    {
     "name": "stdout",
     "output_type": "stream",
     "text": [
      "-6.2186703811128545 -25.7799081649575 2.7399226702738755\n"
     ]
    }
   ],
   "source": [
    "random.seed(1)\n",
    "\n",
    "revenue_data = pd.read_csv(\"../ortiz-bobea-reproduction/revenue_shares.csv\")\n",
    "country_weights = {}\n",
    "for row in revenue_data.itertuples():\n",
    "    if row[3] in set(predictions.ISO3):\n",
    "        country_weights[row[3]] = np.mean([row[5],row[6],row[7],row[8],row[9],row[10]])\n",
    "weight_sum = sum(list(country_weights.values()))\n",
    "for country, val in country_weights.items():\n",
    "    country_weights[country] = val/weight_sum\n",
    "\n",
    "gcm_samples = {}\n",
    "for prediction_file in os.listdir(f\"{reproduction_dir}/predictions/\"):\n",
    "    if prediction_file.endswith(\".csv\") and str(model.model_id) in prediction_file:\n",
    "        predictions = pd.read_csv(f\"{reproduction_dir}/predictions/{prediction_file}\")\n",
    "        gcm_samples[prediction_file] = api.call_user_prediction_function(\"cumulative_sum_of_predictions_by_geolocation\", [model, predictions, country_weights, [str(val) for val in list(range(0,1000))]])\n",
    "num_samples = 2000\n",
    "gcm_sample = random.choices(list(gcm_samples.keys()), k=num_samples)\n",
    "sample = random.choices(list(range(1000)), k=num_samples)\n",
    "total_impacts = []\n",
    "for year in range(0,60):\n",
    "    year_impacts = []\n",
    "    for i in range(num_samples):\n",
    "        year_impacts.append((math.exp(np.array(gcm_samples[gcm_sample[i]])[year][sample[i]])-1)*100)\n",
    "    total_impacts.append(year_impacts)\n",
    "interval_90 = np.quantile(total_impacts, [.05, .95])\n",
    "print(np.mean(total_impacts), interval_90[0], interval_90[1])"
   ]
  },
  {
   "cell_type": "code",
   "execution_count": 8,
   "id": "276b7d98-8e74-4e72-ada1-4d07db73a166",
   "metadata": {},
   "outputs": [],
   "source": [
    "total_impacts_df = pd.DataFrame.from_records(total_impacts)"
   ]
  },
  {
   "cell_type": "code",
   "execution_count": 42,
   "id": "98cb052b-da93-42bf-9e98-b897eeac42dd",
   "metadata": {},
   "outputs": [
    {
     "data": {
      "image/png": "[encoded data removed]",
      "text/plain": [
       "<Figure size 640x480 with 1 Axes>"
      ]
     },
     "metadata": {},
     "output_type": "display_data"
    }
   ],
   "source": [
    "for col in total_impacts_df.columns:\n",
    "    plt.plot(total_impacts_df[col], color=\"lightgray\", zorder=1)\n",
    "plt.plot(np.mean(total_impacts_df, axis=1), linewidth=2, zorder=3)\n",
    "percentile_5 = np.quantile(total_impacts_df, .05, axis=1)\n",
    "percentile_95 = np.quantile(total_impacts_df, .95, axis=1)\n",
    "plt.fill_between(list(range(0,60)), percentile_5, percentile_95, color=\"steelblue\", alpha=.3, zorder=2)\n",
    "plt.axhline(y=0, color=\"black\", linestyle='--', zorder=0)\n",
    "plt.xlabel(\"Year\", fontweight=\"bold\", size=12)\n",
    "plt.xticks([i for i in range(0,len(total_impacts_df)+1)],[1962+i if (1960+i) % 10 == 0 else \"\" for i in range(0,len(total_impacts_df)+1)])\n",
    "plt.ylabel(\"Impact on Global Average TFP (%)\", fontweight=\"bold\", size=12)\n",
    "plt.savefig(\"../figures/ortiz_reproduction.png\")"
   ]
  }
 ],
 "metadata": {
  "kernelspec": {
   "display_name": "Python 3 (ipykernel)",
   "language": "python",
   "name": "python3"
  },
  "language_info": {
   "codemirror_mode": {
    "name": "ipython",
    "version": 3
   },
   "file_extension": ".py",
   "mimetype": "text/x-python",
   "name": "python",
   "nbconvert_exporter": "python",
   "pygments_lexer": "ipython3",
   "version": "3.10.12"
  }
 },
 "nbformat": 4,
 "nbformat_minor": 5
}
