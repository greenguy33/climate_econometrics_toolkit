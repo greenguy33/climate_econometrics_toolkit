{
 "cells": [
  {
   "cell_type": "code",
   "execution_count": 1,
   "id": "2f2f23ef-08cd-4eb2-8b1e-35f3ce42c444",
   "metadata": {},
   "outputs": [
    {
     "name": "stderr",
     "output_type": "stream",
     "text": [
      "/home/hayden-freedman/.local/lib/python3.10/site-packages/pandas/core/arrays/masked.py:60: UserWarning: Pandas requires version '1.3.6' or newer of 'bottleneck' (version '1.3.2' currently installed).\n",
      "  from pandas.core import (\n",
      "/home/hayden-freedman/.local/lib/python3.10/site-packages/matplotlib/projections/__init__.py:63: UserWarning: Unable to import Axes3D. This may be due to multiple versions of Matplotlib being installed (e.g. as a system package and as a pip package). As a result, the 3D projection is not available.\n",
      "  warnings.warn(\"Unable to import Axes3D. This may be due to multiple versions of \"\n"
     ]
    },
    {
     "data": {
      "text/html": [
       "\n",
       "            <div id=\"jAzfOb\"></div>\n",
       "            <script type=\"text/javascript\" data-lets-plot-script=\"library\">\n",
       "                if(!window.letsPlotCallQueue) {\n",
       "                    window.letsPlotCallQueue = [];\n",
       "                }; \n",
       "                window.letsPlotCall = function(f) {\n",
       "                    window.letsPlotCallQueue.push(f);\n",
       "                };\n",
       "                (function() {\n",
       "                    var script = document.createElement(\"script\");\n",
       "                    script.type = \"text/javascript\";\n",
       "                    script.src = \"https://cdn.jsdelivr.net/gh/JetBrains/lets-plot@v4.3.3/js-package/distr/lets-plot.min.js\";\n",
       "                    script.onload = function() {\n",
       "                        window.letsPlotCall = function(f) {f();};\n",
       "                        window.letsPlotCallQueue.forEach(function(f) {f();});\n",
       "                        window.letsPlotCallQueue = [];\n",
       "                        \n",
       "                    };\n",
       "                    script.onerror = function(event) {\n",
       "                        window.letsPlotCall = function(f) {};    // noop\n",
       "                        window.letsPlotCallQueue = [];\n",
       "                        var div = document.createElement(\"div\");\n",
       "                        div.style.color = 'darkred';\n",
       "                        div.textContent = 'Error loading Lets-Plot JS';\n",
       "                        document.getElementById(\"jAzfOb\").appendChild(div);\n",
       "                    };\n",
       "                    var e = document.getElementById(\"jAzfOb\");\n",
       "                    e.appendChild(script);\n",
       "                })()\n",
       "            </script>\n",
       "            "
      ]
     },
     "metadata": {},
     "output_type": "display_data"
    },
    {
     "data": {
      "text/html": [
       "\n",
       "            <div id=\"adYGXQ\"></div>\n",
       "            <script type=\"text/javascript\" data-lets-plot-script=\"library\">\n",
       "                if(!window.letsPlotCallQueue) {\n",
       "                    window.letsPlotCallQueue = [];\n",
       "                }; \n",
       "                window.letsPlotCall = function(f) {\n",
       "                    window.letsPlotCallQueue.push(f);\n",
       "                };\n",
       "                (function() {\n",
       "                    var script = document.createElement(\"script\");\n",
       "                    script.type = \"text/javascript\";\n",
       "                    script.src = \"https://cdn.jsdelivr.net/gh/JetBrains/lets-plot@v4.3.3/js-package/distr/lets-plot.min.js\";\n",
       "                    script.onload = function() {\n",
       "                        window.letsPlotCall = function(f) {f();};\n",
       "                        window.letsPlotCallQueue.forEach(function(f) {f();});\n",
       "                        window.letsPlotCallQueue = [];\n",
       "                        \n",
       "                    };\n",
       "                    script.onerror = function(event) {\n",
       "                        window.letsPlotCall = function(f) {};    // noop\n",
       "                        window.letsPlotCallQueue = [];\n",
       "                        var div = document.createElement(\"div\");\n",
       "                        div.style.color = 'darkred';\n",
       "                        div.textContent = 'Error loading Lets-Plot JS';\n",
       "                        document.getElementById(\"adYGXQ\").appendChild(div);\n",
       "                    };\n",
       "                    var e = document.getElementById(\"adYGXQ\");\n",
       "                    e.appendChild(script);\n",
       "                })()\n",
       "            </script>\n",
       "            "
      ]
     },
     "metadata": {},
     "output_type": "display_data"
    }
   ],
   "source": [
    "import os\n",
    "import pandas as pd\n",
    "import numpy as np\n",
    "import climate_econometrics_toolkit.user_api as api\n",
    "import math\n",
    "import random\n",
    "import matplotlib.pyplot as plt\n",
    "import geopandas as gpd\n",
    "import subprocess\n",
    "from osgeo import gdal"
   ]
  },
  {
   "cell_type": "code",
   "execution_count": 4,
   "id": "8e82195a-6378-4429-9cd8-3fc9c6c3a2a7",
   "metadata": {},
   "outputs": [],
   "source": [
    "cet_home = os.getenv(\"CETHOME\")\n",
    "reproduction_dir = cet_home + \"/ortiz_bobea_reproduction/\"\n",
    "gcm_data_dir = f\"{reproduction_dir}/gcms/\"\n",
    "num_bootstrap_samples = 500\n",
    "gcm_dir = cet_home + \"/processed_gcm_data/\""
   ]
  },
  {
   "cell_type": "markdown",
   "id": "fa5a10a5-d831-44cb-9552-7b44280f2eeb",
   "metadata": {},
   "source": [
    "# Build model with CET"
   ]
  },
  {
   "cell_type": "code",
   "execution_count": 3,
   "id": "a265cfc3-3c64-447f-9086-0e549fbe1d49",
   "metadata": {},
   "outputs": [
    {
     "name": "stdout",
     "output_type": "stream",
     "text": [
      "INFO: Loading dataset ../data/ortiz_bobea_data.csv as active dataset and resetting current model.\n"
     ]
    }
   ],
   "source": [
    "api.load_dataset_from_file(\"../data/ortiz_bobea_data.csv\")\n",
    "api.set_time_column(\"year\")\n",
    "api.set_panel_column(\"ISO3\")"
   ]
  },
  {
   "cell_type": "code",
   "execution_count": 4,
   "id": "6fb840b3-0205-4144-b2fe-bda8f00979f8",
   "metadata": {},
   "outputs": [],
   "source": [
    "# construct model\n",
    "api.set_target_variable(\"fd_log_tfp\")\n",
    "api.add_covariates([\"fd_tmean\",\"fd_tmean_sq\",\"fd_prcp\",\"fd_prcp_sq\"])\n",
    "api.add_fixed_effects([\"year\",\"ISO3\"])"
   ]
  },
  {
   "cell_type": "code",
   "execution_count": 5,
   "id": "625fe8b9-4361-4992-ae45-7d6b596d3053",
   "metadata": {},
   "outputs": [
    {
     "name": "stdout",
     "output_type": "stream",
     "text": [
      "target_var : fd_log_tfp\n",
      "covariates : ['fd_tmean', 'fd_tmean_sq', 'fd_prcp', 'fd_prcp_sq']\n",
      "fixed_effects : ['year', 'ISO3']\n",
      "random_effects : None\n",
      "time_trends : []\n",
      "time_column : year\n",
      "panel_column : ISO3\n",
      "out_sample_mse : nan\n",
      "out_sample_mse_reduction : nan\n",
      "out_sample_pred_int_cov : nan\n",
      "r2 : nan\n",
      "rmse : nan\n",
      "model_id : None\n"
     ]
    }
   ],
   "source": [
    "api.view_current_model()"
   ]
  },
  {
   "cell_type": "code",
   "execution_count": 6,
   "id": "0fbd7fc8-e6bc-417f-af41-33b91e5bb9cc",
   "metadata": {},
   "outputs": [
    {
     "name": "stdout",
     "output_type": "stream",
     "text": [
      "INFO: Evalating non-random-effects model using standard error type 'nonrobust'\n",
      "INFO: Demeaning applied: True\n"
     ]
    },
    {
     "name": "stderr",
     "output_type": "stream",
     "text": [
      "/home/hayden-freedman/.local/lib/python3.10/site-packages/pyfixest/estimation/demean_.py:229: NumbaWarning: \u001b[1m\u001b[1mThe TBB threading layer requires TBB version 2021 update 6 or later i.e., TBB_INTERFACE_VERSION >= 12060. Found TBB_INTERFACE_VERSION = 12050. The TBB threading layer is disabled.\u001b[0m\u001b[0m\n",
      "  n_threads = nb.get_num_threads()\n"
     ]
    },
    {
     "name": "stdout",
     "output_type": "stream",
     "text": [
      "INFO: Splitting data using technique 'random' with 10 cross-validation folds.\n",
      "                    Coef.      Std.Err.             t         P>|t|  \\\n",
      "const        2.005774e-18  8.533197e-04  2.350554e-15  1.000000e+00   \n",
      "fd_tmean    -6.475999e-03  4.615034e-03 -1.403240e+00  1.605789e-01   \n",
      "fd_tmean_sq -4.752681e-05  1.222550e-04 -3.887514e-01  6.974690e-01   \n",
      "fd_prcp      1.816850e-04  3.335915e-05  5.446332e+00  5.273709e-08   \n",
      "fd_prcp_sq  -1.818987e-07  4.081797e-08 -4.456340e+00  8.435169e-06   \n",
      "\n",
      "                   [0.025        0.975]  \n",
      "const       -1.672695e-03  1.672695e-03  \n",
      "fd_tmean    -1.552248e-02  2.570485e-03  \n",
      "fd_tmean_sq -2.871736e-04  1.921200e-04  \n",
      "fd_prcp      1.162937e-04  2.470763e-04  \n",
      "fd_prcp_sq  -2.619110e-07 -1.018865e-07  \n",
      "INFO: Model assigned ID: 1750282709.0485594\n"
     ]
    }
   ],
   "source": [
    "model_id = api.evaluate_model_with_OLS()"
   ]
  },
  {
   "cell_type": "markdown",
   "id": "0103ab1c-5507-4ad7-9900-713af7903917",
   "metadata": {},
   "source": [
    "# Bootstrap model for coefficient samples"
   ]
  },
  {
   "cell_type": "code",
   "execution_count": 15,
   "id": "de23864c-89c0-4e57-a48b-b055db43912f",
   "metadata": {},
   "outputs": [
    {
     "name": "stdout",
     "output_type": "stream",
     "text": [
      "INFO: Loading model from cache with ID '1750267654.5413082'\n",
      "INFO: Bootstrapping may run for awhile. See progress bar on command line for updates.\n"
     ]
    },
    {
     "name": "stderr",
     "output_type": "stream",
     "text": [
      "\u001b[38;2;0;255;0m100%\u001b[39m \u001b[38;2;0;255;0m(500 of 500)\u001b[39m |######################| Elapsed Time: 0:41:26 Time:  0:41:262422\n"
     ]
    },
    {
     "data": {
      "text/plain": [
       "1750267654.5413082"
      ]
     },
     "execution_count": 15,
     "metadata": {},
     "output_type": "execute_result"
    }
   ],
   "source": [
    "api.run_block_bootstrap(api.get_model_by_id(model_id), num_samples=num_bootstrap_samples)"
   ]
  },
  {
   "cell_type": "markdown",
   "id": "b6782909-7de6-4a8a-9202-f10dc5588d4d",
   "metadata": {},
   "source": [
    "# Preprocess GCM data"
   ]
  },
  {
   "cell_type": "code",
   "execution_count": 5,
   "id": "88f99a5d-c765-4642-858c-b8e1189017e1",
   "metadata": {},
   "outputs": [],
   "source": [
    "# remove some non-populated areas from shape file\n",
    "areas_to_remove = [\"BV\",\"JN\",\"SV\",\"DQ\",\"FQ\",\"HQ\",\"JQ\",\"MQ\",\"WQ\",\"JU\",\"GO\",\"WE\",\"GZ\"]\n",
    "raster = gpd.read_file(f\"{reproduction_dir}/country_shapes/country.shp\")\n",
    "raster2 = raster.loc[~raster.FIPS_CNTRY.isin(areas_to_remove)]\n",
    "raster2 = gpd.GeoDataFrame(raster2)\n",
    "raster2.to_file(f\"{reproduction_dir}/country_shapes/country2.shp\")\n",
    "shape_file = reproduction_dir + \"/country_shapes/country2.shp\""
   ]
  },
  {
   "cell_type": "code",
   "execution_count": 41,
   "id": "8805be43-1ed3-4733-83e4-744cc2bef9ae",
   "metadata": {},
   "outputs": [
    {
     "name": "stdout",
     "output_type": "stream",
     "text": [
      "cdo    sellonlatbox: Processed 33816576 values from 1 variable over 1032 timesteps [1.26s 782MB].\n",
      "cdo    sellonlatbox: Processed 21250944 values from 1 variable over 1032 timesteps [0.83s 782MB].\n",
      "cdo    sellonlatbox: Processed 21250944 values from 1 variable over 1032 timesteps [0.84s 782MB].\n",
      "cdo    sellonlatbox: Processed 21250944 values from 1 variable over 1032 timesteps [1.07s 782MB].\n",
      "cdo    sellonlatbox: Processed 8454144 values from 1 variable over 1032 timesteps [0.69s 782MB].\n",
      "cdo    sellonlatbox: Processed 8454144 values from 1 variable over 1032 timesteps [0.76s 782MB].\n",
      "cdo    sellonlatbox: Processed 8454144 values from 1 variable over 1032 timesteps [0.58s 782MB].\n",
      "cdo    sellonlatbox: Processed 11612160 values from 1 variable over 420 timesteps [1.34s 782MB].\n",
      "cdo    sellonlatbox: Processed 11612160 values from 1 variable over 420 timesteps [0.59s 782MB].\n",
      "cdo    sellonlatbox: Processed 11612160 values from 1 variable over 420 timesteps [0.59s 782MB].\n",
      "cdo    sellonlatbox: Processed 3686400 values from 1 variable over 72 timesteps [0.14s 782MB].\n",
      "cdo    sellonlatbox: Processed 3686400 values from 1 variable over 72 timesteps [0.15s 782MB].\n",
      "cdo    sellonlatbox: Processed 3686400 values from 1 variable over 72 timesteps [0.16s 782MB].\n",
      "cdo    sellonlatbox: Processed 52838400 values from 1 variable over 1032 timesteps [2.09s 782MB].\n",
      "cdo    sellonlatbox: Processed 3686400 values from 1 variable over 72 timesteps [0.14s 782MB].\n",
      "cdo    sellonlatbox: Processed 52838400 values from 1 variable over 1032 timesteps [2.77s 782MB].\n",
      "cdo    sellonlatbox: Processed 52838400 values from 1 variable over 1032 timesteps [1.81s 782MB].\n",
      "cdo    sellonlatbox: Processed 3686400 values from 1 variable over 72 timesteps [0.14s 782MB].\n",
      "cdo    sellonlatbox: Processed 3686400 values from 1 variable over 72 timesteps [0.31s 782MB].\n",
      "cdo    sellonlatbox: Processed 33816576 values from 1 variable over 1032 timesteps [2.06s 782MB].\n",
      "cdo    sellonlatbox: Processed 33816576 values from 1 variable over 1032 timesteps [1.25s 782MB].\n",
      "cdo    sellonlatbox: Processed 33816576 values from 1 variable over 1032 timesteps [1.30s 782MB].\n",
      "cdo    sellonlatbox: Processed 52838400 values from 1 variable over 1032 timesteps [2.19s 782MB].\n",
      "cdo    sellonlatbox: Processed 52838400 values from 1 variable over 1032 timesteps [1.20s 782MB].\n",
      "cdo    sellonlatbox: Processed 52838400 values from 1 variable over 1032 timesteps [2.08s 782MB].\n"
     ]
    }
   ],
   "source": [
    "# shift climate raster data to correct scale\n",
    "def create_shifted_file(filename, new_filename):\n",
    "    cdo_command = [\"cdo\",\"sellonlatbox,-180,180,-90,90\",filename,gcm_data_dir + \"/\" + gcm + \"/\" + new_filename]\n",
    "    subprocess.run(cdo_command)\n",
    "\n",
    "for gcm in os.listdir(gcm_data_dir):\n",
    "    for file in os.listdir(gcm_data_dir + \"/\" + gcm):\n",
    "        filename_segs = file.split(\".\")[0:-1]\n",
    "        filename_segs.append(\"shifted\")\n",
    "        filename_segs.append(\"nc\")\n",
    "        new_filename = \".\".join(filename_segs)\n",
    "        if \"shifted\" not in file and not os.path.exists(gcm_data_dir + \"/\" + gcm + \"/\" + new_filename):\n",
    "            if file.endswith(\".nc\"):\n",
    "                create_shifted_file(gcm_data_dir + \"/\" + gcm + \"/\" + file, new_filename)"
   ]
  },
  {
   "cell_type": "code",
   "execution_count": 42,
   "id": "122ea153-27cb-4fca-8f48-60f010757b53",
   "metadata": {},
   "outputs": [],
   "source": [
    "# get greenest months for each country\n",
    "green_months = {}\n",
    "green_month_data = pd.read_csv(reproduction_dir + \"/peak_bottom_ndvi_month_country.csv\")\n",
    "for row in green_month_data.itertuples():\n",
    "    peak = row[5]\n",
    "    season = [i for i in range(peak-2,peak+3)]\n",
    "    for i in range(len(season)):\n",
    "        if season[i] < 1:\n",
    "            season[i] = season[i] + 12\n",
    "        elif season[i] > 12:\n",
    "            season[i] = season[i] - 12\n",
    "    green_months[row.ISO3] = season"
   ]
  },
  {
   "cell_type": "code",
   "execution_count": 43,
   "id": "847c451a-4d52-4e1c-a976-dd4a09cc8b5a",
   "metadata": {},
   "outputs": [
    {
     "name": "stderr",
     "output_type": "stream",
     "text": [
      "Warning 1: Latitude grid not spaced evenly.  Setting projection for grid spacing is within 0.1 degrees threshold.\n"
     ]
    },
    {
     "name": "stdout",
     "output_type": "stream",
     "text": [
      "tasmax_Amon_CNRM-CM6-1_ssp245_r1i1p1f2_gr_201501-210012.shifted.nc /home/hayden-freedman/climate_econometrics_toolkit/ortiz_bobea_reproduction//gcms//CNRM/tasmax_Amon_CNRM-CM6-1_ssp245_r1i1p1f2_gr_201501-210012.shifted.nc /home/hayden-freedman/climate_econometrics_toolkit/ortiz_bobea_reproduction//country_shapes/country2.shp /home/hayden-freedman/climate_econometrics_toolkit/ortiz_bobea_reproduction//weight_files/Cropland2000_5m.tif 2015 mean tasmax\n",
      "INFO: Extracting raster data using raster_file /home/hayden-freedman/climate_econometrics_toolkit/ortiz_bobea_reproduction//gcms//CNRM/tasmax_Amon_CNRM-CM6-1_ssp245_r1i1p1f2_gr_201501-210012.shifted.nc; shape_file /home/hayden-freedman/climate_econometrics_toolkit/ortiz_bobea_reproduction//country_shapes/country2.shp; weights file /home/hayden-freedman/climate_econometrics_toolkit/ortiz_bobea_reproduction//weight_files/Cropland2000_5m.tif.\n",
      "INFO: Resampled weights file has been saved to /home/hayden-freedman/climate_econometrics_toolkit/resampled_raster_files/Cropland2000_5m_resampled.tif\n"
     ]
    },
    {
     "name": "stderr",
     "output_type": "stream",
     "text": [
      "Warning 1: Latitude grid not spaced evenly.  Setting projection for grid spacing is within 0.1 degrees threshold.\n"
     ]
    },
    {
     "name": "stdout",
     "output_type": "stream",
     "text": [
      "INFO: Aggregating raster data using function mean\n"
     ]
    },
    {
     "name": "stderr",
     "output_type": "stream",
     "text": [
      "/home/hayden-freedman/.local/lib/python3.10/site-packages/climate_econometrics_toolkit/raster_extraction.py:130: RuntimeWarning: Mean of empty slice\n",
      "  data.append([geo, period, np.nanmean(agg_mean)])\n"
     ]
    },
    {
     "name": "stdout",
     "output_type": "stream",
     "text": [
      "WARNING: These GeoIDs were omitted from the aggregated dataset: ['ABW', 'AIA', 'AND', 'ANT', 'ASM', 'ATA', 'ATF', 'ATG', 'BEL', 'BIH', 'BMU', 'BRB', 'CCK', 'COK', 'CXR', 'CYM', 'CZE', 'DMA', 'ERI', 'ESH', 'ETH', 'FLK', 'FRO', 'FSM', 'GIB', 'GLP', 'GRD', 'GRL', 'GUM', 'HMD', 'HRV', 'IOT', 'KIR', 'KNA', 'LCA', 'LIE', 'LUX', 'MAC', 'MCO', 'MDV', 'MHL', 'MKD', 'MNP', 'MON', 'MSR', 'MTQ', 'MYT', 'NFK', 'NIU', 'NRU', 'PCN', 'PLW', 'PYF', 'ROM', 'SGS', 'SHN', 'SMR', 'SPM', 'SRB', 'SVK', 'SVN', 'TCA', 'TKL', 'TON', 'TUV', 'TWN', 'VCT', 'VGB', 'VIR', 'WLF', 'WSM', 'XGK', 'XIM', 'XJE', 'XPF', 'XPG', 'ZAR']\n",
      "pr_Amon_CNRM-CM6-1_ssp245_r1i1p1f2_gr_201501-210012.shifted.nc /home/hayden-freedman/climate_econometrics_toolkit/ortiz_bobea_reproduction//gcms//CNRM/pr_Amon_CNRM-CM6-1_ssp245_r1i1p1f2_gr_201501-210012.shifted.nc /home/hayden-freedman/climate_econometrics_toolkit/ortiz_bobea_reproduction//country_shapes/country2.shp /home/hayden-freedman/climate_econometrics_toolkit/ortiz_bobea_reproduction//weight_files/Cropland2000_5m.tif 2015 sum pr\n",
      "INFO: Extracting raster data using raster_file /home/hayden-freedman/climate_econometrics_toolkit/ortiz_bobea_reproduction//gcms//CNRM/pr_Amon_CNRM-CM6-1_ssp245_r1i1p1f2_gr_201501-210012.shifted.nc; shape_file /home/hayden-freedman/climate_econometrics_toolkit/ortiz_bobea_reproduction//country_shapes/country2.shp; weights file /home/hayden-freedman/climate_econometrics_toolkit/ortiz_bobea_reproduction//weight_files/Cropland2000_5m.tif.\n"
     ]
    },
    {
     "name": "stderr",
     "output_type": "stream",
     "text": [
      "Warning 1: Latitude grid not spaced evenly.  Setting projection for grid spacing is within 0.1 degrees threshold.\n"
     ]
    },
    {
     "name": "stdout",
     "output_type": "stream",
     "text": [
      "INFO: Resampled weights file has been saved to /home/hayden-freedman/climate_econometrics_toolkit/resampled_raster_files/Cropland2000_5m_resampled.tif\n"
     ]
    },
    {
     "name": "stderr",
     "output_type": "stream",
     "text": [
      "Warning 1: Latitude grid not spaced evenly.  Setting projection for grid spacing is within 0.1 degrees threshold.\n"
     ]
    },
    {
     "name": "stdout",
     "output_type": "stream",
     "text": [
      "INFO: Aggregating raster data using function mean\n"
     ]
    },
    {
     "name": "stderr",
     "output_type": "stream",
     "text": [
      "/home/hayden-freedman/.local/lib/python3.10/site-packages/climate_econometrics_toolkit/raster_extraction.py:130: RuntimeWarning: Mean of empty slice\n",
      "  data.append([geo, period, np.nanmean(agg_mean)])\n"
     ]
    },
    {
     "name": "stdout",
     "output_type": "stream",
     "text": [
      "WARNING: These GeoIDs were omitted from the aggregated dataset: ['ABW', 'AIA', 'AND', 'ANT', 'ASM', 'ATA', 'ATF', 'ATG', 'BEL', 'BIH', 'BMU', 'BRB', 'CCK', 'COK', 'CXR', 'CYM', 'CZE', 'DMA', 'ERI', 'ESH', 'ETH', 'FLK', 'FRO', 'FSM', 'GIB', 'GLP', 'GRD', 'GRL', 'GUM', 'HMD', 'HRV', 'IOT', 'KIR', 'KNA', 'LCA', 'LIE', 'LUX', 'MAC', 'MCO', 'MDV', 'MHL', 'MKD', 'MNP', 'MON', 'MSR', 'MTQ', 'MYT', 'NFK', 'NIU', 'NRU', 'PCN', 'PLW', 'PYF', 'ROM', 'SGS', 'SHN', 'SMR', 'SPM', 'SRB', 'SVK', 'SVN', 'TCA', 'TKL', 'TON', 'TUV', 'TWN', 'VCT', 'VGB', 'VIR', 'WLF', 'WSM', 'XGK', 'XIM', 'XJE', 'XPF', 'XPG', 'ZAR']\n",
      "tasmin_Amon_CNRM-CM6-1_ssp245_r1i1p1f2_gr_201501-210012.shifted.nc /home/hayden-freedman/climate_econometrics_toolkit/ortiz_bobea_reproduction//gcms//CNRM/tasmin_Amon_CNRM-CM6-1_ssp245_r1i1p1f2_gr_201501-210012.shifted.nc /home/hayden-freedman/climate_econometrics_toolkit/ortiz_bobea_reproduction//country_shapes/country2.shp /home/hayden-freedman/climate_econometrics_toolkit/ortiz_bobea_reproduction//weight_files/Cropland2000_5m.tif 2015 mean tasmin\n",
      "INFO: Extracting raster data using raster_file /home/hayden-freedman/climate_econometrics_toolkit/ortiz_bobea_reproduction//gcms//CNRM/tasmin_Amon_CNRM-CM6-1_ssp245_r1i1p1f2_gr_201501-210012.shifted.nc; shape_file /home/hayden-freedman/climate_econometrics_toolkit/ortiz_bobea_reproduction//country_shapes/country2.shp; weights file /home/hayden-freedman/climate_econometrics_toolkit/ortiz_bobea_reproduction//weight_files/Cropland2000_5m.tif.\n"
     ]
    },
    {
     "name": "stderr",
     "output_type": "stream",
     "text": [
      "Warning 1: Latitude grid not spaced evenly.  Setting projection for grid spacing is within 0.1 degrees threshold.\n"
     ]
    },
    {
     "name": "stdout",
     "output_type": "stream",
     "text": [
      "INFO: Resampled weights file has been saved to /home/hayden-freedman/climate_econometrics_toolkit/resampled_raster_files/Cropland2000_5m_resampled.tif\n"
     ]
    },
    {
     "name": "stderr",
     "output_type": "stream",
     "text": [
      "Warning 1: Latitude grid not spaced evenly.  Setting projection for grid spacing is within 0.1 degrees threshold.\n"
     ]
    },
    {
     "name": "stdout",
     "output_type": "stream",
     "text": [
      "INFO: Aggregating raster data using function mean\n"
     ]
    },
    {
     "name": "stderr",
     "output_type": "stream",
     "text": [
      "/home/hayden-freedman/.local/lib/python3.10/site-packages/climate_econometrics_toolkit/raster_extraction.py:130: RuntimeWarning: Mean of empty slice\n",
      "  data.append([geo, period, np.nanmean(agg_mean)])\n"
     ]
    },
    {
     "name": "stdout",
     "output_type": "stream",
     "text": [
      "WARNING: These GeoIDs were omitted from the aggregated dataset: ['ABW', 'AIA', 'AND', 'ANT', 'ASM', 'ATA', 'ATF', 'ATG', 'BEL', 'BIH', 'BMU', 'BRB', 'CCK', 'COK', 'CXR', 'CYM', 'CZE', 'DMA', 'ERI', 'ESH', 'ETH', 'FLK', 'FRO', 'FSM', 'GIB', 'GLP', 'GRD', 'GRL', 'GUM', 'HMD', 'HRV', 'IOT', 'KIR', 'KNA', 'LCA', 'LIE', 'LUX', 'MAC', 'MCO', 'MDV', 'MHL', 'MKD', 'MNP', 'MON', 'MSR', 'MTQ', 'MYT', 'NFK', 'NIU', 'NRU', 'PCN', 'PLW', 'PYF', 'ROM', 'SGS', 'SHN', 'SMR', 'SPM', 'SRB', 'SVK', 'SVN', 'TCA', 'TKL', 'TON', 'TUV', 'TWN', 'VCT', 'VGB', 'VIR', 'WLF', 'WSM', 'XGK', 'XIM', 'XJE', 'XPF', 'XPG', 'ZAR']\n",
      "tasmax_Amon_IPSL-CM6A-LR_ssp245_r1i1p1f1_gr_201501-210012.shifted.nc /home/hayden-freedman/climate_econometrics_toolkit/ortiz_bobea_reproduction//gcms//IPSL/tasmax_Amon_IPSL-CM6A-LR_ssp245_r1i1p1f1_gr_201501-210012.shifted.nc /home/hayden-freedman/climate_econometrics_toolkit/ortiz_bobea_reproduction//country_shapes/country2.shp /home/hayden-freedman/climate_econometrics_toolkit/ortiz_bobea_reproduction//weight_files/Cropland2000_5m.tif 2015 mean tasmax\n",
      "INFO: Extracting raster data using raster_file /home/hayden-freedman/climate_econometrics_toolkit/ortiz_bobea_reproduction//gcms//IPSL/tasmax_Amon_IPSL-CM6A-LR_ssp245_r1i1p1f1_gr_201501-210012.shifted.nc; shape_file /home/hayden-freedman/climate_econometrics_toolkit/ortiz_bobea_reproduction//country_shapes/country2.shp; weights file /home/hayden-freedman/climate_econometrics_toolkit/ortiz_bobea_reproduction//weight_files/Cropland2000_5m.tif.\n",
      "INFO: Resampled weights file has been saved to /home/hayden-freedman/climate_econometrics_toolkit/resampled_raster_files/Cropland2000_5m_resampled.tif\n",
      "INFO: Aggregating raster data using function mean\n"
     ]
    },
    {
     "name": "stderr",
     "output_type": "stream",
     "text": [
      "/home/hayden-freedman/.local/lib/python3.10/site-packages/climate_econometrics_toolkit/raster_extraction.py:130: RuntimeWarning: Mean of empty slice\n",
      "  data.append([geo, period, np.nanmean(agg_mean)])\n"
     ]
    },
    {
     "name": "stdout",
     "output_type": "stream",
     "text": [
      "WARNING: These GeoIDs were omitted from the aggregated dataset: ['ABW', 'AIA', 'AND', 'ANT', 'ASM', 'ATA', 'ATF', 'ATG', 'BEL', 'BIH', 'BMU', 'BRB', 'CCK', 'COK', 'CXR', 'CYM', 'CZE', 'DMA', 'ERI', 'ESH', 'ETH', 'FLK', 'FRO', 'FSM', 'GIB', 'GLP', 'GRD', 'GRL', 'GUM', 'HMD', 'HRV', 'IOT', 'KIR', 'KNA', 'LCA', 'LIE', 'LUX', 'MAC', 'MCO', 'MDV', 'MHL', 'MKD', 'MNP', 'MON', 'MSR', 'MTQ', 'MYT', 'NFK', 'NIU', 'NRU', 'PCN', 'PLW', 'PYF', 'ROM', 'SGS', 'SHN', 'SMR', 'SPM', 'SRB', 'SVK', 'SVN', 'TCA', 'TKL', 'TON', 'TUV', 'TWN', 'VCT', 'VGB', 'VIR', 'WLF', 'WSM', 'XGK', 'XIM', 'XJE', 'XPF', 'XPG', 'ZAR']\n",
      "tasmin_Amon_IPSL-CM6A-LR_ssp245_r1i1p1f1_gr_201501-210012.shifted.nc /home/hayden-freedman/climate_econometrics_toolkit/ortiz_bobea_reproduction//gcms//IPSL/tasmin_Amon_IPSL-CM6A-LR_ssp245_r1i1p1f1_gr_201501-210012.shifted.nc /home/hayden-freedman/climate_econometrics_toolkit/ortiz_bobea_reproduction//country_shapes/country2.shp /home/hayden-freedman/climate_econometrics_toolkit/ortiz_bobea_reproduction//weight_files/Cropland2000_5m.tif 2015 mean tasmin\n",
      "INFO: Extracting raster data using raster_file /home/hayden-freedman/climate_econometrics_toolkit/ortiz_bobea_reproduction//gcms//IPSL/tasmin_Amon_IPSL-CM6A-LR_ssp245_r1i1p1f1_gr_201501-210012.shifted.nc; shape_file /home/hayden-freedman/climate_econometrics_toolkit/ortiz_bobea_reproduction//country_shapes/country2.shp; weights file /home/hayden-freedman/climate_econometrics_toolkit/ortiz_bobea_reproduction//weight_files/Cropland2000_5m.tif.\n",
      "INFO: Resampled weights file has been saved to /home/hayden-freedman/climate_econometrics_toolkit/resampled_raster_files/Cropland2000_5m_resampled.tif\n",
      "INFO: Aggregating raster data using function mean\n"
     ]
    },
    {
     "name": "stderr",
     "output_type": "stream",
     "text": [
      "/home/hayden-freedman/.local/lib/python3.10/site-packages/climate_econometrics_toolkit/raster_extraction.py:130: RuntimeWarning: Mean of empty slice\n",
      "  data.append([geo, period, np.nanmean(agg_mean)])\n"
     ]
    },
    {
     "name": "stdout",
     "output_type": "stream",
     "text": [
      "WARNING: These GeoIDs were omitted from the aggregated dataset: ['ABW', 'AIA', 'AND', 'ANT', 'ASM', 'ATA', 'ATF', 'ATG', 'BEL', 'BIH', 'BMU', 'BRB', 'CCK', 'COK', 'CXR', 'CYM', 'CZE', 'DMA', 'ERI', 'ESH', 'ETH', 'FLK', 'FRO', 'FSM', 'GIB', 'GLP', 'GRD', 'GRL', 'GUM', 'HMD', 'HRV', 'IOT', 'KIR', 'KNA', 'LCA', 'LIE', 'LUX', 'MAC', 'MCO', 'MDV', 'MHL', 'MKD', 'MNP', 'MON', 'MSR', 'MTQ', 'MYT', 'NFK', 'NIU', 'NRU', 'PCN', 'PLW', 'PYF', 'ROM', 'SGS', 'SHN', 'SMR', 'SPM', 'SRB', 'SVK', 'SVN', 'TCA', 'TKL', 'TON', 'TUV', 'TWN', 'VCT', 'VGB', 'VIR', 'WLF', 'WSM', 'XGK', 'XIM', 'XJE', 'XPF', 'XPG', 'ZAR']\n",
      "pr_Amon_IPSL-CM6A-LR_ssp245_r1i1p1f1_gr_201501-210012.shifted.nc /home/hayden-freedman/climate_econometrics_toolkit/ortiz_bobea_reproduction//gcms//IPSL/pr_Amon_IPSL-CM6A-LR_ssp245_r1i1p1f1_gr_201501-210012.shifted.nc /home/hayden-freedman/climate_econometrics_toolkit/ortiz_bobea_reproduction//country_shapes/country2.shp /home/hayden-freedman/climate_econometrics_toolkit/ortiz_bobea_reproduction//weight_files/Cropland2000_5m.tif 2015 sum pr\n",
      "INFO: Extracting raster data using raster_file /home/hayden-freedman/climate_econometrics_toolkit/ortiz_bobea_reproduction//gcms//IPSL/pr_Amon_IPSL-CM6A-LR_ssp245_r1i1p1f1_gr_201501-210012.shifted.nc; shape_file /home/hayden-freedman/climate_econometrics_toolkit/ortiz_bobea_reproduction//country_shapes/country2.shp; weights file /home/hayden-freedman/climate_econometrics_toolkit/ortiz_bobea_reproduction//weight_files/Cropland2000_5m.tif.\n",
      "INFO: Resampled weights file has been saved to /home/hayden-freedman/climate_econometrics_toolkit/resampled_raster_files/Cropland2000_5m_resampled.tif\n",
      "INFO: Aggregating raster data using function mean\n"
     ]
    },
    {
     "name": "stderr",
     "output_type": "stream",
     "text": [
      "/home/hayden-freedman/.local/lib/python3.10/site-packages/climate_econometrics_toolkit/raster_extraction.py:130: RuntimeWarning: Mean of empty slice\n",
      "  data.append([geo, period, np.nanmean(agg_mean)])\n"
     ]
    },
    {
     "name": "stdout",
     "output_type": "stream",
     "text": [
      "WARNING: These GeoIDs were omitted from the aggregated dataset: ['ABW', 'AIA', 'AND', 'ANT', 'ASM', 'ATA', 'ATF', 'ATG', 'BEL', 'BIH', 'BMU', 'BRB', 'CCK', 'COK', 'CXR', 'CYM', 'CZE', 'DMA', 'ERI', 'ESH', 'ETH', 'FLK', 'FRO', 'FSM', 'GIB', 'GLP', 'GRD', 'GRL', 'GUM', 'HMD', 'HRV', 'IOT', 'KIR', 'KNA', 'LCA', 'LIE', 'LUX', 'MAC', 'MCO', 'MDV', 'MHL', 'MKD', 'MNP', 'MON', 'MSR', 'MTQ', 'MYT', 'NFK', 'NIU', 'NRU', 'PCN', 'PLW', 'PYF', 'ROM', 'SGS', 'SHN', 'SMR', 'SPM', 'SRB', 'SVK', 'SVN', 'TCA', 'TKL', 'TON', 'TUV', 'TWN', 'VCT', 'VGB', 'VIR', 'WLF', 'WSM', 'XGK', 'XIM', 'XJE', 'XPF', 'XPG', 'ZAR']\n",
      "tasmax_Amon_CanESM5_ssp245_r1i1p1f1_gn_201501-210012.shifted.nc /home/hayden-freedman/climate_econometrics_toolkit/ortiz_bobea_reproduction//gcms//CanESM5/tasmax_Amon_CanESM5_ssp245_r1i1p1f1_gn_201501-210012.shifted.nc /home/hayden-freedman/climate_econometrics_toolkit/ortiz_bobea_reproduction//country_shapes/country2.shp /home/hayden-freedman/climate_econometrics_toolkit/ortiz_bobea_reproduction//weight_files/Cropland2000_5m.tif 2015 mean tasmax\n",
      "INFO: Extracting raster data using raster_file /home/hayden-freedman/climate_econometrics_toolkit/ortiz_bobea_reproduction//gcms//CanESM5/tasmax_Amon_CanESM5_ssp245_r1i1p1f1_gn_201501-210012.shifted.nc; shape_file /home/hayden-freedman/climate_econometrics_toolkit/ortiz_bobea_reproduction//country_shapes/country2.shp; weights file /home/hayden-freedman/climate_econometrics_toolkit/ortiz_bobea_reproduction//weight_files/Cropland2000_5m.tif.\n"
     ]
    },
    {
     "name": "stderr",
     "output_type": "stream",
     "text": [
      "Warning 1: Latitude grid not spaced evenly.  Setting projection for grid spacing is within 0.1 degrees threshold.\n"
     ]
    },
    {
     "name": "stdout",
     "output_type": "stream",
     "text": [
      "INFO: Resampled weights file has been saved to /home/hayden-freedman/climate_econometrics_toolkit/resampled_raster_files/Cropland2000_5m_resampled.tif\n"
     ]
    },
    {
     "name": "stderr",
     "output_type": "stream",
     "text": [
      "Warning 1: Latitude grid not spaced evenly.  Setting projection for grid spacing is within 0.1 degrees threshold.\n"
     ]
    },
    {
     "name": "stdout",
     "output_type": "stream",
     "text": [
      "INFO: Aggregating raster data using function mean\n"
     ]
    },
    {
     "name": "stderr",
     "output_type": "stream",
     "text": [
      "/home/hayden-freedman/.local/lib/python3.10/site-packages/climate_econometrics_toolkit/raster_extraction.py:130: RuntimeWarning: Mean of empty slice\n",
      "  data.append([geo, period, np.nanmean(agg_mean)])\n"
     ]
    },
    {
     "name": "stdout",
     "output_type": "stream",
     "text": [
      "WARNING: These GeoIDs were omitted from the aggregated dataset: ['ABW', 'AIA', 'AND', 'ANT', 'ASM', 'ATA', 'ATF', 'ATG', 'BEL', 'BIH', 'BMU', 'BRB', 'CCK', 'COK', 'CXR', 'CYM', 'CZE', 'DMA', 'ERI', 'ESH', 'ETH', 'FLK', 'FRO', 'FSM', 'GIB', 'GLP', 'GRD', 'GRL', 'GUM', 'HMD', 'HRV', 'IOT', 'KIR', 'KNA', 'LCA', 'LIE', 'LUX', 'MAC', 'MCO', 'MDV', 'MHL', 'MKD', 'MNP', 'MON', 'MSR', 'MTQ', 'MYT', 'NFK', 'NIU', 'NRU', 'PCN', 'PLW', 'PYF', 'ROM', 'SGS', 'SHN', 'SMR', 'SPM', 'SRB', 'SVK', 'SVN', 'TCA', 'TKL', 'TON', 'TUV', 'TWN', 'VCT', 'VGB', 'VIR', 'WLF', 'WSM', 'XGK', 'XIM', 'XJE', 'XPF', 'XPG', 'ZAR']\n",
      "tasmin_Amon_CanESM5_ssp245_r1i1p1f1_gn_201501-210012.shifted.nc /home/hayden-freedman/climate_econometrics_toolkit/ortiz_bobea_reproduction//gcms//CanESM5/tasmin_Amon_CanESM5_ssp245_r1i1p1f1_gn_201501-210012.shifted.nc /home/hayden-freedman/climate_econometrics_toolkit/ortiz_bobea_reproduction//country_shapes/country2.shp /home/hayden-freedman/climate_econometrics_toolkit/ortiz_bobea_reproduction//weight_files/Cropland2000_5m.tif 2015 mean tasmin\n",
      "INFO: Extracting raster data using raster_file /home/hayden-freedman/climate_econometrics_toolkit/ortiz_bobea_reproduction//gcms//CanESM5/tasmin_Amon_CanESM5_ssp245_r1i1p1f1_gn_201501-210012.shifted.nc; shape_file /home/hayden-freedman/climate_econometrics_toolkit/ortiz_bobea_reproduction//country_shapes/country2.shp; weights file /home/hayden-freedman/climate_econometrics_toolkit/ortiz_bobea_reproduction//weight_files/Cropland2000_5m.tif.\n"
     ]
    },
    {
     "name": "stderr",
     "output_type": "stream",
     "text": [
      "Warning 1: Latitude grid not spaced evenly.  Setting projection for grid spacing is within 0.1 degrees threshold.\n"
     ]
    },
    {
     "name": "stdout",
     "output_type": "stream",
     "text": [
      "INFO: Resampled weights file has been saved to /home/hayden-freedman/climate_econometrics_toolkit/resampled_raster_files/Cropland2000_5m_resampled.tif\n"
     ]
    },
    {
     "name": "stderr",
     "output_type": "stream",
     "text": [
      "Warning 1: Latitude grid not spaced evenly.  Setting projection for grid spacing is within 0.1 degrees threshold.\n"
     ]
    },
    {
     "name": "stdout",
     "output_type": "stream",
     "text": [
      "INFO: Aggregating raster data using function mean\n"
     ]
    },
    {
     "name": "stderr",
     "output_type": "stream",
     "text": [
      "/home/hayden-freedman/.local/lib/python3.10/site-packages/climate_econometrics_toolkit/raster_extraction.py:130: RuntimeWarning: Mean of empty slice\n",
      "  data.append([geo, period, np.nanmean(agg_mean)])\n"
     ]
    },
    {
     "name": "stdout",
     "output_type": "stream",
     "text": [
      "WARNING: These GeoIDs were omitted from the aggregated dataset: ['ABW', 'AIA', 'AND', 'ANT', 'ASM', 'ATA', 'ATF', 'ATG', 'BEL', 'BIH', 'BMU', 'BRB', 'CCK', 'COK', 'CXR', 'CYM', 'CZE', 'DMA', 'ERI', 'ESH', 'ETH', 'FLK', 'FRO', 'FSM', 'GIB', 'GLP', 'GRD', 'GRL', 'GUM', 'HMD', 'HRV', 'IOT', 'KIR', 'KNA', 'LCA', 'LIE', 'LUX', 'MAC', 'MCO', 'MDV', 'MHL', 'MKD', 'MNP', 'MON', 'MSR', 'MTQ', 'MYT', 'NFK', 'NIU', 'NRU', 'PCN', 'PLW', 'PYF', 'ROM', 'SGS', 'SHN', 'SMR', 'SPM', 'SRB', 'SVK', 'SVN', 'TCA', 'TKL', 'TON', 'TUV', 'TWN', 'VCT', 'VGB', 'VIR', 'WLF', 'WSM', 'XGK', 'XIM', 'XJE', 'XPF', 'XPG', 'ZAR']\n",
      "pr_Amon_CanESM5_ssp245_r1i1p1f1_gn_201501-210012.shifted.nc /home/hayden-freedman/climate_econometrics_toolkit/ortiz_bobea_reproduction//gcms//CanESM5/pr_Amon_CanESM5_ssp245_r1i1p1f1_gn_201501-210012.shifted.nc /home/hayden-freedman/climate_econometrics_toolkit/ortiz_bobea_reproduction//country_shapes/country2.shp /home/hayden-freedman/climate_econometrics_toolkit/ortiz_bobea_reproduction//weight_files/Cropland2000_5m.tif 2015 sum pr\n",
      "INFO: Extracting raster data using raster_file /home/hayden-freedman/climate_econometrics_toolkit/ortiz_bobea_reproduction//gcms//CanESM5/pr_Amon_CanESM5_ssp245_r1i1p1f1_gn_201501-210012.shifted.nc; shape_file /home/hayden-freedman/climate_econometrics_toolkit/ortiz_bobea_reproduction//country_shapes/country2.shp; weights file /home/hayden-freedman/climate_econometrics_toolkit/ortiz_bobea_reproduction//weight_files/Cropland2000_5m.tif.\n"
     ]
    },
    {
     "name": "stderr",
     "output_type": "stream",
     "text": [
      "Warning 1: Latitude grid not spaced evenly.  Setting projection for grid spacing is within 0.1 degrees threshold.\n"
     ]
    },
    {
     "name": "stdout",
     "output_type": "stream",
     "text": [
      "INFO: Resampled weights file has been saved to /home/hayden-freedman/climate_econometrics_toolkit/resampled_raster_files/Cropland2000_5m_resampled.tif\n"
     ]
    },
    {
     "name": "stderr",
     "output_type": "stream",
     "text": [
      "Warning 1: Latitude grid not spaced evenly.  Setting projection for grid spacing is within 0.1 degrees threshold.\n"
     ]
    },
    {
     "name": "stdout",
     "output_type": "stream",
     "text": [
      "INFO: Aggregating raster data using function mean\n"
     ]
    },
    {
     "name": "stderr",
     "output_type": "stream",
     "text": [
      "/home/hayden-freedman/.local/lib/python3.10/site-packages/climate_econometrics_toolkit/raster_extraction.py:130: RuntimeWarning: Mean of empty slice\n",
      "  data.append([geo, period, np.nanmean(agg_mean)])\n"
     ]
    },
    {
     "name": "stdout",
     "output_type": "stream",
     "text": [
      "WARNING: These GeoIDs were omitted from the aggregated dataset: ['ABW', 'AIA', 'AND', 'ANT', 'ASM', 'ATA', 'ATF', 'ATG', 'BEL', 'BIH', 'BMU', 'BRB', 'CCK', 'COK', 'CXR', 'CYM', 'CZE', 'DMA', 'ERI', 'ESH', 'ETH', 'FLK', 'FRO', 'FSM', 'GIB', 'GLP', 'GRD', 'GRL', 'GUM', 'HMD', 'HRV', 'IOT', 'KIR', 'KNA', 'LCA', 'LIE', 'LUX', 'MAC', 'MCO', 'MDV', 'MHL', 'MKD', 'MNP', 'MON', 'MSR', 'MTQ', 'MYT', 'NFK', 'NIU', 'NRU', 'PCN', 'PLW', 'PYF', 'ROM', 'SGS', 'SHN', 'SMR', 'SPM', 'SRB', 'SVK', 'SVN', 'TCA', 'TKL', 'TON', 'TUV', 'TWN', 'VCT', 'VGB', 'VIR', 'WLF', 'WSM', 'XGK', 'XIM', 'XJE', 'XPF', 'XPG', 'ZAR']\n",
      "pr_Amon_HadGEM3-GC31-LL_ssp245_r1i1p1f3_gn_201501-204912.shifted.nc /home/hayden-freedman/climate_econometrics_toolkit/ortiz_bobea_reproduction//gcms//HadGEM3/pr_Amon_HadGEM3-GC31-LL_ssp245_r1i1p1f3_gn_201501-204912.shifted.nc /home/hayden-freedman/climate_econometrics_toolkit/ortiz_bobea_reproduction//country_shapes/country2.shp /home/hayden-freedman/climate_econometrics_toolkit/ortiz_bobea_reproduction//weight_files/Cropland2000_5m.tif 2015 sum pr\n",
      "INFO: Extracting raster data using raster_file /home/hayden-freedman/climate_econometrics_toolkit/ortiz_bobea_reproduction//gcms//HadGEM3/pr_Amon_HadGEM3-GC31-LL_ssp245_r1i1p1f3_gn_201501-204912.shifted.nc; shape_file /home/hayden-freedman/climate_econometrics_toolkit/ortiz_bobea_reproduction//country_shapes/country2.shp; weights file /home/hayden-freedman/climate_econometrics_toolkit/ortiz_bobea_reproduction//weight_files/Cropland2000_5m.tif.\n",
      "INFO: Resampled weights file has been saved to /home/hayden-freedman/climate_econometrics_toolkit/resampled_raster_files/Cropland2000_5m_resampled.tif\n",
      "INFO: Aggregating raster data using function mean\n"
     ]
    },
    {
     "name": "stderr",
     "output_type": "stream",
     "text": [
      "/home/hayden-freedman/.local/lib/python3.10/site-packages/climate_econometrics_toolkit/raster_extraction.py:130: RuntimeWarning: Mean of empty slice\n",
      "  data.append([geo, period, np.nanmean(agg_mean)])\n"
     ]
    },
    {
     "name": "stdout",
     "output_type": "stream",
     "text": [
      "WARNING: These GeoIDs were omitted from the aggregated dataset: ['ABW', 'AIA', 'AND', 'ANT', 'ASM', 'ATA', 'ATF', 'ATG', 'BEL', 'BIH', 'BMU', 'BRB', 'CCK', 'COK', 'CXR', 'CYM', 'CZE', 'DMA', 'ERI', 'ESH', 'ETH', 'FLK', 'FRO', 'FSM', 'GIB', 'GLP', 'GRD', 'GRL', 'GUM', 'HMD', 'HRV', 'IOT', 'KIR', 'KNA', 'LCA', 'LIE', 'LUX', 'MAC', 'MCO', 'MDV', 'MHL', 'MKD', 'MNP', 'MON', 'MSR', 'MTQ', 'MYT', 'NFK', 'NIU', 'NRU', 'PCN', 'PLW', 'PYF', 'ROM', 'SGS', 'SHN', 'SMR', 'SPM', 'SRB', 'SVK', 'SVN', 'TCA', 'TKL', 'TON', 'TUV', 'TWN', 'VCT', 'VGB', 'VIR', 'WLF', 'WSM', 'XGK', 'XIM', 'XJE', 'XPF', 'XPG', 'ZAR']\n",
      "tasmax_Amon_HadGEM3-GC31-LL_ssp245_r1i1p1f3_gn_201501-204912.shifted.nc /home/hayden-freedman/climate_econometrics_toolkit/ortiz_bobea_reproduction//gcms//HadGEM3/tasmax_Amon_HadGEM3-GC31-LL_ssp245_r1i1p1f3_gn_201501-204912.shifted.nc /home/hayden-freedman/climate_econometrics_toolkit/ortiz_bobea_reproduction//country_shapes/country2.shp /home/hayden-freedman/climate_econometrics_toolkit/ortiz_bobea_reproduction//weight_files/Cropland2000_5m.tif 2015 mean tasmax\n",
      "INFO: Extracting raster data using raster_file /home/hayden-freedman/climate_econometrics_toolkit/ortiz_bobea_reproduction//gcms//HadGEM3/tasmax_Amon_HadGEM3-GC31-LL_ssp245_r1i1p1f3_gn_201501-204912.shifted.nc; shape_file /home/hayden-freedman/climate_econometrics_toolkit/ortiz_bobea_reproduction//country_shapes/country2.shp; weights file /home/hayden-freedman/climate_econometrics_toolkit/ortiz_bobea_reproduction//weight_files/Cropland2000_5m.tif.\n",
      "INFO: Resampled weights file has been saved to /home/hayden-freedman/climate_econometrics_toolkit/resampled_raster_files/Cropland2000_5m_resampled.tif\n",
      "INFO: Aggregating raster data using function mean\n"
     ]
    },
    {
     "name": "stderr",
     "output_type": "stream",
     "text": [
      "/home/hayden-freedman/.local/lib/python3.10/site-packages/climate_econometrics_toolkit/raster_extraction.py:130: RuntimeWarning: Mean of empty slice\n",
      "  data.append([geo, period, np.nanmean(agg_mean)])\n"
     ]
    },
    {
     "name": "stdout",
     "output_type": "stream",
     "text": [
      "WARNING: These GeoIDs were omitted from the aggregated dataset: ['ABW', 'AIA', 'AND', 'ANT', 'ASM', 'ATA', 'ATF', 'ATG', 'BEL', 'BIH', 'BMU', 'BRB', 'CCK', 'COK', 'CXR', 'CYM', 'CZE', 'DMA', 'ERI', 'ESH', 'ETH', 'FLK', 'FRO', 'FSM', 'GIB', 'GLP', 'GRD', 'GRL', 'GUM', 'HMD', 'HRV', 'IOT', 'KIR', 'KNA', 'LCA', 'LIE', 'LUX', 'MAC', 'MCO', 'MDV', 'MHL', 'MKD', 'MNP', 'MON', 'MSR', 'MTQ', 'MYT', 'NFK', 'NIU', 'NRU', 'PCN', 'PLW', 'PYF', 'ROM', 'SGS', 'SHN', 'SMR', 'SPM', 'SRB', 'SVK', 'SVN', 'TCA', 'TKL', 'TON', 'TUV', 'TWN', 'VCT', 'VGB', 'VIR', 'WLF', 'WSM', 'XGK', 'XIM', 'XJE', 'XPF', 'XPG', 'ZAR']\n",
      "tasmin_Amon_HadGEM3-GC31-LL_ssp245_r1i1p1f3_gn_201501-204912.shifted.nc /home/hayden-freedman/climate_econometrics_toolkit/ortiz_bobea_reproduction//gcms//HadGEM3/tasmin_Amon_HadGEM3-GC31-LL_ssp245_r1i1p1f3_gn_201501-204912.shifted.nc /home/hayden-freedman/climate_econometrics_toolkit/ortiz_bobea_reproduction//country_shapes/country2.shp /home/hayden-freedman/climate_econometrics_toolkit/ortiz_bobea_reproduction//weight_files/Cropland2000_5m.tif 2015 mean tasmin\n",
      "INFO: Extracting raster data using raster_file /home/hayden-freedman/climate_econometrics_toolkit/ortiz_bobea_reproduction//gcms//HadGEM3/tasmin_Amon_HadGEM3-GC31-LL_ssp245_r1i1p1f3_gn_201501-204912.shifted.nc; shape_file /home/hayden-freedman/climate_econometrics_toolkit/ortiz_bobea_reproduction//country_shapes/country2.shp; weights file /home/hayden-freedman/climate_econometrics_toolkit/ortiz_bobea_reproduction//weight_files/Cropland2000_5m.tif.\n",
      "INFO: Resampled weights file has been saved to /home/hayden-freedman/climate_econometrics_toolkit/resampled_raster_files/Cropland2000_5m_resampled.tif\n",
      "INFO: Aggregating raster data using function mean\n"
     ]
    },
    {
     "name": "stderr",
     "output_type": "stream",
     "text": [
      "/home/hayden-freedman/.local/lib/python3.10/site-packages/climate_econometrics_toolkit/raster_extraction.py:130: RuntimeWarning: Mean of empty slice\n",
      "  data.append([geo, period, np.nanmean(agg_mean)])\n"
     ]
    },
    {
     "name": "stdout",
     "output_type": "stream",
     "text": [
      "WARNING: These GeoIDs were omitted from the aggregated dataset: ['ABW', 'AIA', 'AND', 'ANT', 'ASM', 'ATA', 'ATF', 'ATG', 'BEL', 'BIH', 'BMU', 'BRB', 'CCK', 'COK', 'CXR', 'CYM', 'CZE', 'DMA', 'ERI', 'ESH', 'ETH', 'FLK', 'FRO', 'FSM', 'GIB', 'GLP', 'GRD', 'GRL', 'GUM', 'HMD', 'HRV', 'IOT', 'KIR', 'KNA', 'LCA', 'LIE', 'LUX', 'MAC', 'MCO', 'MDV', 'MHL', 'MKD', 'MNP', 'MON', 'MSR', 'MTQ', 'MYT', 'NFK', 'NIU', 'NRU', 'PCN', 'PLW', 'PYF', 'ROM', 'SGS', 'SHN', 'SMR', 'SPM', 'SRB', 'SVK', 'SVN', 'TCA', 'TKL', 'TON', 'TUV', 'TWN', 'VCT', 'VGB', 'VIR', 'WLF', 'WSM', 'XGK', 'XIM', 'XJE', 'XPF', 'XPG', 'ZAR']\n",
      "pr_Amon_MRI-ESM2-0_hist-nat_r1i1p1f1_gn_201501-202012.shifted.nc /home/hayden-freedman/climate_econometrics_toolkit/ortiz_bobea_reproduction//gcms//MRI/pr_Amon_MRI-ESM2-0_hist-nat_r1i1p1f1_gn_201501-202012.shifted.nc /home/hayden-freedman/climate_econometrics_toolkit/ortiz_bobea_reproduction//country_shapes/country2.shp /home/hayden-freedman/climate_econometrics_toolkit/ortiz_bobea_reproduction//weight_files/Cropland2000_5m.tif 2015 sum pr\n",
      "INFO: Extracting raster data using raster_file /home/hayden-freedman/climate_econometrics_toolkit/ortiz_bobea_reproduction//gcms//MRI/pr_Amon_MRI-ESM2-0_hist-nat_r1i1p1f1_gn_201501-202012.shifted.nc; shape_file /home/hayden-freedman/climate_econometrics_toolkit/ortiz_bobea_reproduction//country_shapes/country2.shp; weights file /home/hayden-freedman/climate_econometrics_toolkit/ortiz_bobea_reproduction//weight_files/Cropland2000_5m.tif.\n"
     ]
    },
    {
     "name": "stderr",
     "output_type": "stream",
     "text": [
      "Warning 1: Latitude grid not spaced evenly.  Setting projection for grid spacing is within 0.1 degrees threshold.\n"
     ]
    },
    {
     "name": "stdout",
     "output_type": "stream",
     "text": [
      "INFO: Resampled weights file has been saved to /home/hayden-freedman/climate_econometrics_toolkit/resampled_raster_files/Cropland2000_5m_resampled.tif\n"
     ]
    },
    {
     "name": "stderr",
     "output_type": "stream",
     "text": [
      "Warning 1: Latitude grid not spaced evenly.  Setting projection for grid spacing is within 0.1 degrees threshold.\n"
     ]
    },
    {
     "name": "stdout",
     "output_type": "stream",
     "text": [
      "INFO: Aggregating raster data using function mean\n"
     ]
    },
    {
     "name": "stderr",
     "output_type": "stream",
     "text": [
      "/home/hayden-freedman/.local/lib/python3.10/site-packages/climate_econometrics_toolkit/raster_extraction.py:130: RuntimeWarning: Mean of empty slice\n",
      "  data.append([geo, period, np.nanmean(agg_mean)])\n",
      "Warning 1: Latitude grid not spaced evenly.  Setting projection for grid spacing is within 0.1 degrees threshold.\n"
     ]
    },
    {
     "name": "stdout",
     "output_type": "stream",
     "text": [
      "WARNING: These GeoIDs were omitted from the aggregated dataset: ['ABW', 'AIA', 'AND', 'ANT', 'ASM', 'ATA', 'ATF', 'ATG', 'BEL', 'BIH', 'BMU', 'BRB', 'CCK', 'COK', 'CXR', 'CYM', 'CZE', 'DMA', 'ERI', 'ESH', 'ETH', 'FLK', 'FRO', 'FSM', 'GIB', 'GLP', 'GRD', 'GRL', 'GUM', 'HMD', 'HRV', 'IOT', 'KIR', 'KNA', 'LCA', 'LIE', 'LUX', 'MAC', 'MCO', 'MDV', 'MHL', 'MKD', 'MNP', 'MON', 'MSR', 'MTQ', 'MYT', 'NFK', 'NIU', 'NRU', 'PCN', 'PLW', 'PYF', 'ROM', 'SGS', 'SHN', 'SMR', 'SPM', 'SRB', 'SVK', 'SVN', 'TCA', 'TKL', 'TON', 'TUV', 'TWN', 'VCT', 'VGB', 'VIR', 'WLF', 'WSM', 'XGK', 'XIM', 'XJE', 'XPF', 'XPG', 'ZAR']\n",
      "tasmax_Amon_MRI-ESM2-0_hist-nat_r1i1p1f1_gn_201501-202012.shifted.nc /home/hayden-freedman/climate_econometrics_toolkit/ortiz_bobea_reproduction//gcms//MRI/tasmax_Amon_MRI-ESM2-0_hist-nat_r1i1p1f1_gn_201501-202012.shifted.nc /home/hayden-freedman/climate_econometrics_toolkit/ortiz_bobea_reproduction//country_shapes/country2.shp /home/hayden-freedman/climate_econometrics_toolkit/ortiz_bobea_reproduction//weight_files/Cropland2000_5m.tif 2015 mean tasmax\n",
      "INFO: Extracting raster data using raster_file /home/hayden-freedman/climate_econometrics_toolkit/ortiz_bobea_reproduction//gcms//MRI/tasmax_Amon_MRI-ESM2-0_hist-nat_r1i1p1f1_gn_201501-202012.shifted.nc; shape_file /home/hayden-freedman/climate_econometrics_toolkit/ortiz_bobea_reproduction//country_shapes/country2.shp; weights file /home/hayden-freedman/climate_econometrics_toolkit/ortiz_bobea_reproduction//weight_files/Cropland2000_5m.tif.\n",
      "INFO: Resampled weights file has been saved to /home/hayden-freedman/climate_econometrics_toolkit/resampled_raster_files/Cropland2000_5m_resampled.tif\n"
     ]
    },
    {
     "name": "stderr",
     "output_type": "stream",
     "text": [
      "Warning 1: Latitude grid not spaced evenly.  Setting projection for grid spacing is within 0.1 degrees threshold.\n"
     ]
    },
    {
     "name": "stdout",
     "output_type": "stream",
     "text": [
      "INFO: Aggregating raster data using function mean\n"
     ]
    },
    {
     "name": "stderr",
     "output_type": "stream",
     "text": [
      "/home/hayden-freedman/.local/lib/python3.10/site-packages/climate_econometrics_toolkit/raster_extraction.py:130: RuntimeWarning: Mean of empty slice\n",
      "  data.append([geo, period, np.nanmean(agg_mean)])\n",
      "Warning 1: Latitude grid not spaced evenly.  Setting projection for grid spacing is within 0.1 degrees threshold.\n"
     ]
    },
    {
     "name": "stdout",
     "output_type": "stream",
     "text": [
      "WARNING: These GeoIDs were omitted from the aggregated dataset: ['ABW', 'AIA', 'AND', 'ANT', 'ASM', 'ATA', 'ATF', 'ATG', 'BEL', 'BIH', 'BMU', 'BRB', 'CCK', 'COK', 'CXR', 'CYM', 'CZE', 'DMA', 'ERI', 'ESH', 'ETH', 'FLK', 'FRO', 'FSM', 'GIB', 'GLP', 'GRD', 'GRL', 'GUM', 'HMD', 'HRV', 'IOT', 'KIR', 'KNA', 'LCA', 'LIE', 'LUX', 'MAC', 'MCO', 'MDV', 'MHL', 'MKD', 'MNP', 'MON', 'MSR', 'MTQ', 'MYT', 'NFK', 'NIU', 'NRU', 'PCN', 'PLW', 'PYF', 'ROM', 'SGS', 'SHN', 'SMR', 'SPM', 'SRB', 'SVK', 'SVN', 'TCA', 'TKL', 'TON', 'TUV', 'TWN', 'VCT', 'VGB', 'VIR', 'WLF', 'WSM', 'XGK', 'XIM', 'XJE', 'XPF', 'XPG', 'ZAR']\n",
      "tasmax_Amon_MRI-ESM2-0_ssp245_r1i1p1f1_gn_201501-210012.shifted.nc /home/hayden-freedman/climate_econometrics_toolkit/ortiz_bobea_reproduction//gcms//MRI/tasmax_Amon_MRI-ESM2-0_ssp245_r1i1p1f1_gn_201501-210012.shifted.nc /home/hayden-freedman/climate_econometrics_toolkit/ortiz_bobea_reproduction//country_shapes/country2.shp /home/hayden-freedman/climate_econometrics_toolkit/ortiz_bobea_reproduction//weight_files/Cropland2000_5m.tif 2015 mean tasmax\n",
      "INFO: Extracting raster data using raster_file /home/hayden-freedman/climate_econometrics_toolkit/ortiz_bobea_reproduction//gcms//MRI/tasmax_Amon_MRI-ESM2-0_ssp245_r1i1p1f1_gn_201501-210012.shifted.nc; shape_file /home/hayden-freedman/climate_econometrics_toolkit/ortiz_bobea_reproduction//country_shapes/country2.shp; weights file /home/hayden-freedman/climate_econometrics_toolkit/ortiz_bobea_reproduction//weight_files/Cropland2000_5m.tif.\n",
      "INFO: Resampled weights file has been saved to /home/hayden-freedman/climate_econometrics_toolkit/resampled_raster_files/Cropland2000_5m_resampled.tif\n"
     ]
    },
    {
     "name": "stderr",
     "output_type": "stream",
     "text": [
      "Warning 1: Latitude grid not spaced evenly.  Setting projection for grid spacing is within 0.1 degrees threshold.\n"
     ]
    },
    {
     "name": "stdout",
     "output_type": "stream",
     "text": [
      "INFO: Aggregating raster data using function mean\n"
     ]
    },
    {
     "name": "stderr",
     "output_type": "stream",
     "text": [
      "/home/hayden-freedman/.local/lib/python3.10/site-packages/climate_econometrics_toolkit/raster_extraction.py:130: RuntimeWarning: Mean of empty slice\n",
      "  data.append([geo, period, np.nanmean(agg_mean)])\n"
     ]
    },
    {
     "name": "stdout",
     "output_type": "stream",
     "text": [
      "WARNING: These GeoIDs were omitted from the aggregated dataset: ['ABW', 'AIA', 'AND', 'ANT', 'ASM', 'ATA', 'ATF', 'ATG', 'BEL', 'BIH', 'BMU', 'BRB', 'CCK', 'COK', 'CXR', 'CYM', 'CZE', 'DMA', 'ERI', 'ESH', 'ETH', 'FLK', 'FRO', 'FSM', 'GIB', 'GLP', 'GRD', 'GRL', 'GUM', 'HMD', 'HRV', 'IOT', 'KIR', 'KNA', 'LCA', 'LIE', 'LUX', 'MAC', 'MCO', 'MDV', 'MHL', 'MKD', 'MNP', 'MON', 'MSR', 'MTQ', 'MYT', 'NFK', 'NIU', 'NRU', 'PCN', 'PLW', 'PYF', 'ROM', 'SGS', 'SHN', 'SMR', 'SPM', 'SRB', 'SVK', 'SVN', 'TCA', 'TKL', 'TON', 'TUV', 'TWN', 'VCT', 'VGB', 'VIR', 'WLF', 'WSM', 'XGK', 'XIM', 'XJE', 'XPF', 'XPG', 'ZAR']\n",
      "tasmin_Amon_MRI-ESM2-0_hist-nat_r1i1p1f1_gn_201501-202012.shifted.nc /home/hayden-freedman/climate_econometrics_toolkit/ortiz_bobea_reproduction//gcms//MRI/tasmin_Amon_MRI-ESM2-0_hist-nat_r1i1p1f1_gn_201501-202012.shifted.nc /home/hayden-freedman/climate_econometrics_toolkit/ortiz_bobea_reproduction//country_shapes/country2.shp /home/hayden-freedman/climate_econometrics_toolkit/ortiz_bobea_reproduction//weight_files/Cropland2000_5m.tif 2015 mean tasmin\n",
      "INFO: Extracting raster data using raster_file /home/hayden-freedman/climate_econometrics_toolkit/ortiz_bobea_reproduction//gcms//MRI/tasmin_Amon_MRI-ESM2-0_hist-nat_r1i1p1f1_gn_201501-202012.shifted.nc; shape_file /home/hayden-freedman/climate_econometrics_toolkit/ortiz_bobea_reproduction//country_shapes/country2.shp; weights file /home/hayden-freedman/climate_econometrics_toolkit/ortiz_bobea_reproduction//weight_files/Cropland2000_5m.tif.\n"
     ]
    },
    {
     "name": "stderr",
     "output_type": "stream",
     "text": [
      "Warning 1: Latitude grid not spaced evenly.  Setting projection for grid spacing is within 0.1 degrees threshold.\n"
     ]
    },
    {
     "name": "stdout",
     "output_type": "stream",
     "text": [
      "INFO: Resampled weights file has been saved to /home/hayden-freedman/climate_econometrics_toolkit/resampled_raster_files/Cropland2000_5m_resampled.tif\n"
     ]
    },
    {
     "name": "stderr",
     "output_type": "stream",
     "text": [
      "Warning 1: Latitude grid not spaced evenly.  Setting projection for grid spacing is within 0.1 degrees threshold.\n"
     ]
    },
    {
     "name": "stdout",
     "output_type": "stream",
     "text": [
      "INFO: Aggregating raster data using function mean\n"
     ]
    },
    {
     "name": "stderr",
     "output_type": "stream",
     "text": [
      "/home/hayden-freedman/.local/lib/python3.10/site-packages/climate_econometrics_toolkit/raster_extraction.py:130: RuntimeWarning: Mean of empty slice\n",
      "  data.append([geo, period, np.nanmean(agg_mean)])\n",
      "Warning 1: Latitude grid not spaced evenly.  Setting projection for grid spacing is within 0.1 degrees threshold.\n"
     ]
    },
    {
     "name": "stdout",
     "output_type": "stream",
     "text": [
      "WARNING: These GeoIDs were omitted from the aggregated dataset: ['ABW', 'AIA', 'AND', 'ANT', 'ASM', 'ATA', 'ATF', 'ATG', 'BEL', 'BIH', 'BMU', 'BRB', 'CCK', 'COK', 'CXR', 'CYM', 'CZE', 'DMA', 'ERI', 'ESH', 'ETH', 'FLK', 'FRO', 'FSM', 'GIB', 'GLP', 'GRD', 'GRL', 'GUM', 'HMD', 'HRV', 'IOT', 'KIR', 'KNA', 'LCA', 'LIE', 'LUX', 'MAC', 'MCO', 'MDV', 'MHL', 'MKD', 'MNP', 'MON', 'MSR', 'MTQ', 'MYT', 'NFK', 'NIU', 'NRU', 'PCN', 'PLW', 'PYF', 'ROM', 'SGS', 'SHN', 'SMR', 'SPM', 'SRB', 'SVK', 'SVN', 'TCA', 'TKL', 'TON', 'TUV', 'TWN', 'VCT', 'VGB', 'VIR', 'WLF', 'WSM', 'XGK', 'XIM', 'XJE', 'XPF', 'XPG', 'ZAR']\n",
      "pr_Amon_MRI-ESM2-0_ssp245_r1i1p1f1_gn_201501-210012.shifted.nc /home/hayden-freedman/climate_econometrics_toolkit/ortiz_bobea_reproduction//gcms//MRI/pr_Amon_MRI-ESM2-0_ssp245_r1i1p1f1_gn_201501-210012.shifted.nc /home/hayden-freedman/climate_econometrics_toolkit/ortiz_bobea_reproduction//country_shapes/country2.shp /home/hayden-freedman/climate_econometrics_toolkit/ortiz_bobea_reproduction//weight_files/Cropland2000_5m.tif 2015 sum pr\n",
      "INFO: Extracting raster data using raster_file /home/hayden-freedman/climate_econometrics_toolkit/ortiz_bobea_reproduction//gcms//MRI/pr_Amon_MRI-ESM2-0_ssp245_r1i1p1f1_gn_201501-210012.shifted.nc; shape_file /home/hayden-freedman/climate_econometrics_toolkit/ortiz_bobea_reproduction//country_shapes/country2.shp; weights file /home/hayden-freedman/climate_econometrics_toolkit/ortiz_bobea_reproduction//weight_files/Cropland2000_5m.tif.\n",
      "INFO: Resampled weights file has been saved to /home/hayden-freedman/climate_econometrics_toolkit/resampled_raster_files/Cropland2000_5m_resampled.tif\n"
     ]
    },
    {
     "name": "stderr",
     "output_type": "stream",
     "text": [
      "Warning 1: Latitude grid not spaced evenly.  Setting projection for grid spacing is within 0.1 degrees threshold.\n"
     ]
    },
    {
     "name": "stdout",
     "output_type": "stream",
     "text": [
      "INFO: Aggregating raster data using function mean\n"
     ]
    },
    {
     "name": "stderr",
     "output_type": "stream",
     "text": [
      "/home/hayden-freedman/.local/lib/python3.10/site-packages/climate_econometrics_toolkit/raster_extraction.py:130: RuntimeWarning: Mean of empty slice\n",
      "  data.append([geo, period, np.nanmean(agg_mean)])\n"
     ]
    },
    {
     "name": "stdout",
     "output_type": "stream",
     "text": [
      "WARNING: These GeoIDs were omitted from the aggregated dataset: ['ABW', 'AIA', 'AND', 'ANT', 'ASM', 'ATA', 'ATF', 'ATG', 'BEL', 'BIH', 'BMU', 'BRB', 'CCK', 'COK', 'CXR', 'CYM', 'CZE', 'DMA', 'ERI', 'ESH', 'ETH', 'FLK', 'FRO', 'FSM', 'GIB', 'GLP', 'GRD', 'GRL', 'GUM', 'HMD', 'HRV', 'IOT', 'KIR', 'KNA', 'LCA', 'LIE', 'LUX', 'MAC', 'MCO', 'MDV', 'MHL', 'MKD', 'MNP', 'MON', 'MSR', 'MTQ', 'MYT', 'NFK', 'NIU', 'NRU', 'PCN', 'PLW', 'PYF', 'ROM', 'SGS', 'SHN', 'SMR', 'SPM', 'SRB', 'SVK', 'SVN', 'TCA', 'TKL', 'TON', 'TUV', 'TWN', 'VCT', 'VGB', 'VIR', 'WLF', 'WSM', 'XGK', 'XIM', 'XJE', 'XPF', 'XPG', 'ZAR']\n",
      "tasmin_Amon_MRI-ESM2-0_ssp245_r1i1p1f1_gn_201501-210012.shifted.nc /home/hayden-freedman/climate_econometrics_toolkit/ortiz_bobea_reproduction//gcms//MRI/tasmin_Amon_MRI-ESM2-0_ssp245_r1i1p1f1_gn_201501-210012.shifted.nc /home/hayden-freedman/climate_econometrics_toolkit/ortiz_bobea_reproduction//country_shapes/country2.shp /home/hayden-freedman/climate_econometrics_toolkit/ortiz_bobea_reproduction//weight_files/Cropland2000_5m.tif 2015 mean tasmin\n",
      "INFO: Extracting raster data using raster_file /home/hayden-freedman/climate_econometrics_toolkit/ortiz_bobea_reproduction//gcms//MRI/tasmin_Amon_MRI-ESM2-0_ssp245_r1i1p1f1_gn_201501-210012.shifted.nc; shape_file /home/hayden-freedman/climate_econometrics_toolkit/ortiz_bobea_reproduction//country_shapes/country2.shp; weights file /home/hayden-freedman/climate_econometrics_toolkit/ortiz_bobea_reproduction//weight_files/Cropland2000_5m.tif.\n"
     ]
    },
    {
     "name": "stderr",
     "output_type": "stream",
     "text": [
      "Warning 1: Latitude grid not spaced evenly.  Setting projection for grid spacing is within 0.1 degrees threshold.\n"
     ]
    },
    {
     "name": "stdout",
     "output_type": "stream",
     "text": [
      "INFO: Resampled weights file has been saved to /home/hayden-freedman/climate_econometrics_toolkit/resampled_raster_files/Cropland2000_5m_resampled.tif\n"
     ]
    },
    {
     "name": "stderr",
     "output_type": "stream",
     "text": [
      "Warning 1: Latitude grid not spaced evenly.  Setting projection for grid spacing is within 0.1 degrees threshold.\n"
     ]
    },
    {
     "name": "stdout",
     "output_type": "stream",
     "text": [
      "INFO: Aggregating raster data using function mean\n"
     ]
    },
    {
     "name": "stderr",
     "output_type": "stream",
     "text": [
      "/home/hayden-freedman/.local/lib/python3.10/site-packages/climate_econometrics_toolkit/raster_extraction.py:130: RuntimeWarning: Mean of empty slice\n",
      "  data.append([geo, period, np.nanmean(agg_mean)])\n"
     ]
    },
    {
     "name": "stdout",
     "output_type": "stream",
     "text": [
      "WARNING: These GeoIDs were omitted from the aggregated dataset: ['ABW', 'AIA', 'AND', 'ANT', 'ASM', 'ATA', 'ATF', 'ATG', 'BEL', 'BIH', 'BMU', 'BRB', 'CCK', 'COK', 'CXR', 'CYM', 'CZE', 'DMA', 'ERI', 'ESH', 'ETH', 'FLK', 'FRO', 'FSM', 'GIB', 'GLP', 'GRD', 'GRL', 'GUM', 'HMD', 'HRV', 'IOT', 'KIR', 'KNA', 'LCA', 'LIE', 'LUX', 'MAC', 'MCO', 'MDV', 'MHL', 'MKD', 'MNP', 'MON', 'MSR', 'MTQ', 'MYT', 'NFK', 'NIU', 'NRU', 'PCN', 'PLW', 'PYF', 'ROM', 'SGS', 'SHN', 'SMR', 'SPM', 'SRB', 'SVK', 'SVN', 'TCA', 'TKL', 'TON', 'TUV', 'TWN', 'VCT', 'VGB', 'VIR', 'WLF', 'WSM', 'XGK', 'XIM', 'XJE', 'XPF', 'XPG', 'ZAR']\n",
      "tasmax_Amon_MIROC6_ssp245_r1i1p1f1_gn_201501-210012.shifted.nc /home/hayden-freedman/climate_econometrics_toolkit/ortiz_bobea_reproduction//gcms//MIROC6/tasmax_Amon_MIROC6_ssp245_r1i1p1f1_gn_201501-210012.shifted.nc /home/hayden-freedman/climate_econometrics_toolkit/ortiz_bobea_reproduction//country_shapes/country2.shp /home/hayden-freedman/climate_econometrics_toolkit/ortiz_bobea_reproduction//weight_files/Cropland2000_5m.tif 2015 mean tasmax\n",
      "INFO: Extracting raster data using raster_file /home/hayden-freedman/climate_econometrics_toolkit/ortiz_bobea_reproduction//gcms//MIROC6/tasmax_Amon_MIROC6_ssp245_r1i1p1f1_gn_201501-210012.shifted.nc; shape_file /home/hayden-freedman/climate_econometrics_toolkit/ortiz_bobea_reproduction//country_shapes/country2.shp; weights file /home/hayden-freedman/climate_econometrics_toolkit/ortiz_bobea_reproduction//weight_files/Cropland2000_5m.tif.\n"
     ]
    },
    {
     "name": "stderr",
     "output_type": "stream",
     "text": [
      "Warning 1: Latitude grid not spaced evenly.  Setting projection for grid spacing is within 0.1 degrees threshold.\n"
     ]
    },
    {
     "name": "stdout",
     "output_type": "stream",
     "text": [
      "INFO: Resampled weights file has been saved to /home/hayden-freedman/climate_econometrics_toolkit/resampled_raster_files/Cropland2000_5m_resampled.tif\n"
     ]
    },
    {
     "name": "stderr",
     "output_type": "stream",
     "text": [
      "Warning 1: Latitude grid not spaced evenly.  Setting projection for grid spacing is within 0.1 degrees threshold.\n"
     ]
    },
    {
     "name": "stdout",
     "output_type": "stream",
     "text": [
      "INFO: Aggregating raster data using function mean\n"
     ]
    },
    {
     "name": "stderr",
     "output_type": "stream",
     "text": [
      "/home/hayden-freedman/.local/lib/python3.10/site-packages/climate_econometrics_toolkit/raster_extraction.py:130: RuntimeWarning: Mean of empty slice\n",
      "  data.append([geo, period, np.nanmean(agg_mean)])\n"
     ]
    },
    {
     "name": "stdout",
     "output_type": "stream",
     "text": [
      "WARNING: These GeoIDs were omitted from the aggregated dataset: ['ABW', 'AIA', 'AND', 'ANT', 'ASM', 'ATA', 'ATF', 'ATG', 'BEL', 'BIH', 'BMU', 'BRB', 'CCK', 'COK', 'CXR', 'CYM', 'CZE', 'DMA', 'ERI', 'ESH', 'ETH', 'FLK', 'FRO', 'FSM', 'GIB', 'GLP', 'GRD', 'GRL', 'GUM', 'HMD', 'HRV', 'IOT', 'KIR', 'KNA', 'LCA', 'LIE', 'LUX', 'MAC', 'MCO', 'MDV', 'MHL', 'MKD', 'MNP', 'MON', 'MSR', 'MTQ', 'MYT', 'NFK', 'NIU', 'NRU', 'PCN', 'PLW', 'PYF', 'ROM', 'SGS', 'SHN', 'SMR', 'SPM', 'SRB', 'SVK', 'SVN', 'TCA', 'TKL', 'TON', 'TUV', 'TWN', 'VCT', 'VGB', 'VIR', 'WLF', 'WSM', 'XGK', 'XIM', 'XJE', 'XPF', 'XPG', 'ZAR']\n",
      "pr_Amon_MIROC6_ssp245_r1i1p1f1_gn_201501-210012.shifted.nc /home/hayden-freedman/climate_econometrics_toolkit/ortiz_bobea_reproduction//gcms//MIROC6/pr_Amon_MIROC6_ssp245_r1i1p1f1_gn_201501-210012.shifted.nc /home/hayden-freedman/climate_econometrics_toolkit/ortiz_bobea_reproduction//country_shapes/country2.shp /home/hayden-freedman/climate_econometrics_toolkit/ortiz_bobea_reproduction//weight_files/Cropland2000_5m.tif 2015 sum pr\n",
      "INFO: Extracting raster data using raster_file /home/hayden-freedman/climate_econometrics_toolkit/ortiz_bobea_reproduction//gcms//MIROC6/pr_Amon_MIROC6_ssp245_r1i1p1f1_gn_201501-210012.shifted.nc; shape_file /home/hayden-freedman/climate_econometrics_toolkit/ortiz_bobea_reproduction//country_shapes/country2.shp; weights file /home/hayden-freedman/climate_econometrics_toolkit/ortiz_bobea_reproduction//weight_files/Cropland2000_5m.tif.\n"
     ]
    },
    {
     "name": "stderr",
     "output_type": "stream",
     "text": [
      "Warning 1: Latitude grid not spaced evenly.  Setting projection for grid spacing is within 0.1 degrees threshold.\n"
     ]
    },
    {
     "name": "stdout",
     "output_type": "stream",
     "text": [
      "INFO: Resampled weights file has been saved to /home/hayden-freedman/climate_econometrics_toolkit/resampled_raster_files/Cropland2000_5m_resampled.tif\n"
     ]
    },
    {
     "name": "stderr",
     "output_type": "stream",
     "text": [
      "Warning 1: Latitude grid not spaced evenly.  Setting projection for grid spacing is within 0.1 degrees threshold.\n"
     ]
    },
    {
     "name": "stdout",
     "output_type": "stream",
     "text": [
      "INFO: Aggregating raster data using function mean\n"
     ]
    },
    {
     "name": "stderr",
     "output_type": "stream",
     "text": [
      "/home/hayden-freedman/.local/lib/python3.10/site-packages/climate_econometrics_toolkit/raster_extraction.py:130: RuntimeWarning: Mean of empty slice\n",
      "  data.append([geo, period, np.nanmean(agg_mean)])\n"
     ]
    },
    {
     "name": "stdout",
     "output_type": "stream",
     "text": [
      "WARNING: These GeoIDs were omitted from the aggregated dataset: ['ABW', 'AIA', 'AND', 'ANT', 'ASM', 'ATA', 'ATF', 'ATG', 'BEL', 'BIH', 'BMU', 'BRB', 'CCK', 'COK', 'CXR', 'CYM', 'CZE', 'DMA', 'ERI', 'ESH', 'ETH', 'FLK', 'FRO', 'FSM', 'GIB', 'GLP', 'GRD', 'GRL', 'GUM', 'HMD', 'HRV', 'IOT', 'KIR', 'KNA', 'LCA', 'LIE', 'LUX', 'MAC', 'MCO', 'MDV', 'MHL', 'MKD', 'MNP', 'MON', 'MSR', 'MTQ', 'MYT', 'NFK', 'NIU', 'NRU', 'PCN', 'PLW', 'PYF', 'ROM', 'SGS', 'SHN', 'SMR', 'SPM', 'SRB', 'SVK', 'SVN', 'TCA', 'TKL', 'TON', 'TUV', 'TWN', 'VCT', 'VGB', 'VIR', 'WLF', 'WSM', 'XGK', 'XIM', 'XJE', 'XPF', 'XPG', 'ZAR']\n",
      "tasmin_Amon_MIROC6_ssp245_r1i1p1f1_gn_201501-210012.shifted.nc /home/hayden-freedman/climate_econometrics_toolkit/ortiz_bobea_reproduction//gcms//MIROC6/tasmin_Amon_MIROC6_ssp245_r1i1p1f1_gn_201501-210012.shifted.nc /home/hayden-freedman/climate_econometrics_toolkit/ortiz_bobea_reproduction//country_shapes/country2.shp /home/hayden-freedman/climate_econometrics_toolkit/ortiz_bobea_reproduction//weight_files/Cropland2000_5m.tif 2015 mean tasmin\n",
      "INFO: Extracting raster data using raster_file /home/hayden-freedman/climate_econometrics_toolkit/ortiz_bobea_reproduction//gcms//MIROC6/tasmin_Amon_MIROC6_ssp245_r1i1p1f1_gn_201501-210012.shifted.nc; shape_file /home/hayden-freedman/climate_econometrics_toolkit/ortiz_bobea_reproduction//country_shapes/country2.shp; weights file /home/hayden-freedman/climate_econometrics_toolkit/ortiz_bobea_reproduction//weight_files/Cropland2000_5m.tif.\n"
     ]
    },
    {
     "name": "stderr",
     "output_type": "stream",
     "text": [
      "Warning 1: Latitude grid not spaced evenly.  Setting projection for grid spacing is within 0.1 degrees threshold.\n"
     ]
    },
    {
     "name": "stdout",
     "output_type": "stream",
     "text": [
      "INFO: Resampled weights file has been saved to /home/hayden-freedman/climate_econometrics_toolkit/resampled_raster_files/Cropland2000_5m_resampled.tif\n"
     ]
    },
    {
     "name": "stderr",
     "output_type": "stream",
     "text": [
      "Warning 1: Latitude grid not spaced evenly.  Setting projection for grid spacing is within 0.1 degrees threshold.\n"
     ]
    },
    {
     "name": "stdout",
     "output_type": "stream",
     "text": [
      "INFO: Aggregating raster data using function mean\n"
     ]
    },
    {
     "name": "stderr",
     "output_type": "stream",
     "text": [
      "/home/hayden-freedman/.local/lib/python3.10/site-packages/climate_econometrics_toolkit/raster_extraction.py:130: RuntimeWarning: Mean of empty slice\n",
      "  data.append([geo, period, np.nanmean(agg_mean)])\n"
     ]
    },
    {
     "name": "stdout",
     "output_type": "stream",
     "text": [
      "WARNING: These GeoIDs were omitted from the aggregated dataset: ['ABW', 'AIA', 'AND', 'ANT', 'ASM', 'ATA', 'ATF', 'ATG', 'BEL', 'BIH', 'BMU', 'BRB', 'CCK', 'COK', 'CXR', 'CYM', 'CZE', 'DMA', 'ERI', 'ESH', 'ETH', 'FLK', 'FRO', 'FSM', 'GIB', 'GLP', 'GRD', 'GRL', 'GUM', 'HMD', 'HRV', 'IOT', 'KIR', 'KNA', 'LCA', 'LIE', 'LUX', 'MAC', 'MCO', 'MDV', 'MHL', 'MKD', 'MNP', 'MON', 'MSR', 'MTQ', 'MYT', 'NFK', 'NIU', 'NRU', 'PCN', 'PLW', 'PYF', 'ROM', 'SGS', 'SHN', 'SMR', 'SPM', 'SRB', 'SVK', 'SVN', 'TCA', 'TKL', 'TON', 'TUV', 'TWN', 'VCT', 'VGB', 'VIR', 'WLF', 'WSM', 'XGK', 'XIM', 'XJE', 'XPF', 'XPG', 'ZAR']\n"
     ]
    },
    {
     "name": "stderr",
     "output_type": "stream",
     "text": [
      "Warning 1: Latitude grid not spaced evenly.  Setting projection for grid spacing is within 0.1 degrees threshold.\n"
     ]
    },
    {
     "name": "stdout",
     "output_type": "stream",
     "text": [
      "tasmin_Amon_BCC-CSM2-MR_ssp245_r1i1p1f1_gn_201501-210012.shifted.nc /home/hayden-freedman/climate_econometrics_toolkit/ortiz_bobea_reproduction//gcms//BCC/tasmin_Amon_BCC-CSM2-MR_ssp245_r1i1p1f1_gn_201501-210012.shifted.nc /home/hayden-freedman/climate_econometrics_toolkit/ortiz_bobea_reproduction//country_shapes/country2.shp /home/hayden-freedman/climate_econometrics_toolkit/ortiz_bobea_reproduction//weight_files/Cropland2000_5m.tif 2015 mean tasmin\n",
      "INFO: Extracting raster data using raster_file /home/hayden-freedman/climate_econometrics_toolkit/ortiz_bobea_reproduction//gcms//BCC/tasmin_Amon_BCC-CSM2-MR_ssp245_r1i1p1f1_gn_201501-210012.shifted.nc; shape_file /home/hayden-freedman/climate_econometrics_toolkit/ortiz_bobea_reproduction//country_shapes/country2.shp; weights file /home/hayden-freedman/climate_econometrics_toolkit/ortiz_bobea_reproduction//weight_files/Cropland2000_5m.tif.\n",
      "INFO: Resampled weights file has been saved to /home/hayden-freedman/climate_econometrics_toolkit/resampled_raster_files/Cropland2000_5m_resampled.tif\n"
     ]
    },
    {
     "name": "stderr",
     "output_type": "stream",
     "text": [
      "Warning 1: Latitude grid not spaced evenly.  Setting projection for grid spacing is within 0.1 degrees threshold.\n"
     ]
    },
    {
     "name": "stdout",
     "output_type": "stream",
     "text": [
      "INFO: Aggregating raster data using function mean\n"
     ]
    },
    {
     "name": "stderr",
     "output_type": "stream",
     "text": [
      "/home/hayden-freedman/.local/lib/python3.10/site-packages/climate_econometrics_toolkit/raster_extraction.py:130: RuntimeWarning: Mean of empty slice\n",
      "  data.append([geo, period, np.nanmean(agg_mean)])\n"
     ]
    },
    {
     "name": "stdout",
     "output_type": "stream",
     "text": [
      "WARNING: These GeoIDs were omitted from the aggregated dataset: ['ABW', 'AIA', 'AND', 'ANT', 'ASM', 'ATA', 'ATF', 'ATG', 'BEL', 'BIH', 'BMU', 'BRB', 'CCK', 'COK', 'CXR', 'CYM', 'CZE', 'DMA', 'ERI', 'ESH', 'ETH', 'FLK', 'FRO', 'FSM', 'GIB', 'GLP', 'GRD', 'GRL', 'GUM', 'HMD', 'HRV', 'IOT', 'KIR', 'KNA', 'LCA', 'LIE', 'LUX', 'MAC', 'MCO', 'MDV', 'MHL', 'MKD', 'MNP', 'MON', 'MSR', 'MTQ', 'MYT', 'NFK', 'NIU', 'NRU', 'PCN', 'PLW', 'PYF', 'ROM', 'SGS', 'SHN', 'SMR', 'SPM', 'SRB', 'SVK', 'SVN', 'TCA', 'TKL', 'TON', 'TUV', 'TWN', 'VCT', 'VGB', 'VIR', 'WLF', 'WSM', 'XGK', 'XIM', 'XJE', 'XPF', 'XPG', 'ZAR']\n"
     ]
    },
    {
     "name": "stderr",
     "output_type": "stream",
     "text": [
      "Warning 1: Latitude grid not spaced evenly.  Setting projection for grid spacing is within 0.1 degrees threshold.\n"
     ]
    },
    {
     "name": "stdout",
     "output_type": "stream",
     "text": [
      "tasmax_Amon_BCC-CSM2-MR_ssp245_r1i1p1f1_gn_201501-210012.shifted.nc /home/hayden-freedman/climate_econometrics_toolkit/ortiz_bobea_reproduction//gcms//BCC/tasmax_Amon_BCC-CSM2-MR_ssp245_r1i1p1f1_gn_201501-210012.shifted.nc /home/hayden-freedman/climate_econometrics_toolkit/ortiz_bobea_reproduction//country_shapes/country2.shp /home/hayden-freedman/climate_econometrics_toolkit/ortiz_bobea_reproduction//weight_files/Cropland2000_5m.tif 2015 mean tasmax\n",
      "INFO: Extracting raster data using raster_file /home/hayden-freedman/climate_econometrics_toolkit/ortiz_bobea_reproduction//gcms//BCC/tasmax_Amon_BCC-CSM2-MR_ssp245_r1i1p1f1_gn_201501-210012.shifted.nc; shape_file /home/hayden-freedman/climate_econometrics_toolkit/ortiz_bobea_reproduction//country_shapes/country2.shp; weights file /home/hayden-freedman/climate_econometrics_toolkit/ortiz_bobea_reproduction//weight_files/Cropland2000_5m.tif.\n",
      "INFO: Resampled weights file has been saved to /home/hayden-freedman/climate_econometrics_toolkit/resampled_raster_files/Cropland2000_5m_resampled.tif\n"
     ]
    },
    {
     "name": "stderr",
     "output_type": "stream",
     "text": [
      "Warning 1: Latitude grid not spaced evenly.  Setting projection for grid spacing is within 0.1 degrees threshold.\n"
     ]
    },
    {
     "name": "stdout",
     "output_type": "stream",
     "text": [
      "INFO: Aggregating raster data using function mean\n"
     ]
    },
    {
     "name": "stderr",
     "output_type": "stream",
     "text": [
      "/home/hayden-freedman/.local/lib/python3.10/site-packages/climate_econometrics_toolkit/raster_extraction.py:130: RuntimeWarning: Mean of empty slice\n",
      "  data.append([geo, period, np.nanmean(agg_mean)])\n"
     ]
    },
    {
     "name": "stdout",
     "output_type": "stream",
     "text": [
      "WARNING: These GeoIDs were omitted from the aggregated dataset: ['ABW', 'AIA', 'AND', 'ANT', 'ASM', 'ATA', 'ATF', 'ATG', 'BEL', 'BIH', 'BMU', 'BRB', 'CCK', 'COK', 'CXR', 'CYM', 'CZE', 'DMA', 'ERI', 'ESH', 'ETH', 'FLK', 'FRO', 'FSM', 'GIB', 'GLP', 'GRD', 'GRL', 'GUM', 'HMD', 'HRV', 'IOT', 'KIR', 'KNA', 'LCA', 'LIE', 'LUX', 'MAC', 'MCO', 'MDV', 'MHL', 'MKD', 'MNP', 'MON', 'MSR', 'MTQ', 'MYT', 'NFK', 'NIU', 'NRU', 'PCN', 'PLW', 'PYF', 'ROM', 'SGS', 'SHN', 'SMR', 'SPM', 'SRB', 'SVK', 'SVN', 'TCA', 'TKL', 'TON', 'TUV', 'TWN', 'VCT', 'VGB', 'VIR', 'WLF', 'WSM', 'XGK', 'XIM', 'XJE', 'XPF', 'XPG', 'ZAR']\n"
     ]
    },
    {
     "name": "stderr",
     "output_type": "stream",
     "text": [
      "Warning 1: Latitude grid not spaced evenly.  Setting projection for grid spacing is within 0.1 degrees threshold.\n"
     ]
    },
    {
     "name": "stdout",
     "output_type": "stream",
     "text": [
      "pr_Amon_BCC-CSM2-MR_ssp245_r1i1p1f1_gn_201501-210012.shifted.nc /home/hayden-freedman/climate_econometrics_toolkit/ortiz_bobea_reproduction//gcms//BCC/pr_Amon_BCC-CSM2-MR_ssp245_r1i1p1f1_gn_201501-210012.shifted.nc /home/hayden-freedman/climate_econometrics_toolkit/ortiz_bobea_reproduction//country_shapes/country2.shp /home/hayden-freedman/climate_econometrics_toolkit/ortiz_bobea_reproduction//weight_files/Cropland2000_5m.tif 2015 sum pr\n",
      "INFO: Extracting raster data using raster_file /home/hayden-freedman/climate_econometrics_toolkit/ortiz_bobea_reproduction//gcms//BCC/pr_Amon_BCC-CSM2-MR_ssp245_r1i1p1f1_gn_201501-210012.shifted.nc; shape_file /home/hayden-freedman/climate_econometrics_toolkit/ortiz_bobea_reproduction//country_shapes/country2.shp; weights file /home/hayden-freedman/climate_econometrics_toolkit/ortiz_bobea_reproduction//weight_files/Cropland2000_5m.tif.\n",
      "INFO: Resampled weights file has been saved to /home/hayden-freedman/climate_econometrics_toolkit/resampled_raster_files/Cropland2000_5m_resampled.tif\n"
     ]
    },
    {
     "name": "stderr",
     "output_type": "stream",
     "text": [
      "Warning 1: Latitude grid not spaced evenly.  Setting projection for grid spacing is within 0.1 degrees threshold.\n"
     ]
    },
    {
     "name": "stdout",
     "output_type": "stream",
     "text": [
      "INFO: Aggregating raster data using function mean\n"
     ]
    },
    {
     "name": "stderr",
     "output_type": "stream",
     "text": [
      "/home/hayden-freedman/.local/lib/python3.10/site-packages/climate_econometrics_toolkit/raster_extraction.py:130: RuntimeWarning: Mean of empty slice\n",
      "  data.append([geo, period, np.nanmean(agg_mean)])\n"
     ]
    },
    {
     "name": "stdout",
     "output_type": "stream",
     "text": [
      "WARNING: These GeoIDs were omitted from the aggregated dataset: ['ABW', 'AIA', 'AND', 'ANT', 'ASM', 'ATA', 'ATF', 'ATG', 'BEL', 'BIH', 'BMU', 'BRB', 'CCK', 'COK', 'CXR', 'CYM', 'CZE', 'DMA', 'ERI', 'ESH', 'ETH', 'FLK', 'FRO', 'FSM', 'GIB', 'GLP', 'GRD', 'GRL', 'GUM', 'HMD', 'HRV', 'IOT', 'KIR', 'KNA', 'LCA', 'LIE', 'LUX', 'MAC', 'MCO', 'MDV', 'MHL', 'MKD', 'MNP', 'MON', 'MSR', 'MTQ', 'MYT', 'NFK', 'NIU', 'NRU', 'PCN', 'PLW', 'PYF', 'ROM', 'SGS', 'SHN', 'SMR', 'SPM', 'SRB', 'SVK', 'SVN', 'TCA', 'TKL', 'TON', 'TUV', 'TWN', 'VCT', 'VGB', 'VIR', 'WLF', 'WSM', 'XGK', 'XIM', 'XJE', 'XPF', 'XPG', 'ZAR']\n"
     ]
    }
   ],
   "source": [
    "# process GCM data\n",
    "for gcm in os.listdir(gcm_data_dir):\n",
    "    for file in os.listdir(gcm_data_dir + \"/\" + gcm):\n",
    "        if file.endswith(\".shifted.nc\"):\n",
    "            filename = \"aggregated_\" + file.replace(\".nc\",\".csv\")\n",
    "            save_dir = cet_home + \"/processed_gcm_data/\" + gcm + \"/crop_weighted/\"\n",
    "            if not os.path.isfile(save_dir + \"/\" + filename):\n",
    "                if not os.path.exists(save_dir):\n",
    "                    os.makedirs(save_dir)\n",
    "                filepath = gcm_data_dir + \"/\" + gcm + \"/\" + file\n",
    "                var_name = file.split(\"_\")[0]\n",
    "                func = \"sum\" if var_name == \"pr\" else \"mean\"\n",
    "                first_year_in_data = int(file.split(\"_\")[-1].split(\"-\")[0][0:4])\n",
    "                raster = gdal.Open(filepath)\n",
    "                weight_file = reproduction_dir + f\"/weight_files/Cropland2000_5m.tif\"\n",
    "                if \"historical\" in file:\n",
    "                    grouping = \"historical\"\n",
    "                elif \"hist-nat\" in file:\n",
    "                    grouping = \"hist-nat\"\n",
    "                print(file, filepath, shape_file, weight_file, first_year_in_data, func, var_name)\n",
    "                out = api.extract_raster_data(filepath, shape_file=shape_file, weight_file=weight_file)\n",
    "                data = api.aggregate_raster_data_to_year_level(out, var_name, \"mean\", 12, first_year_in_data, shape_file=shape_file, geo_identifier=\"GMI_CNTRY\", subperiods_to_use=green_months)\n",
    "                data.to_csv(save_dir + filename)"
   ]
  },
  {
   "cell_type": "code",
   "execution_count": 44,
   "id": "bff6be25-3508-4fec-ae5f-b94305aa6775",
   "metadata": {},
   "outputs": [],
   "source": [
    "# Historical climate means\n",
    "country_climate_means = {}\n",
    "country_1961_means = {}\n",
    "ccm_file = pd.read_csv(f\"{reproduction_dir}/country_climate_means.csv\")\n",
    "for row in ccm_file.itertuples():\n",
    "    country_climate_means[row[2]] = {\"mean_temp\":row[3], \"mean_prcp\":row[4]}\n",
    "c1961_file = pd.read_csv(f\"{reproduction_dir}/country_climate_1961.csv\")\n",
    "for row in c1961_file.itertuples():\n",
    "    country_1961_means[row[2]] = {\"mean_temp\":row[6],\"mean_prcp\":row[4]}"
   ]
  },
  {
   "cell_type": "code",
   "execution_count": 66,
   "id": "c59979d5-9b1d-4f93-9ad6-7115c2fd7113",
   "metadata": {},
   "outputs": [],
   "source": [
    "# Concatenate historical and projected data\n",
    "for var in [\"tasmax\",\"tasmin\",\"pr\"]:\n",
    "    for gcm in os.listdir(gcm_dir):\n",
    "        file_dir = gcm_dir + gcm + \"/crop_weighted/\"\n",
    "        filename = [file for file in os.listdir(file_dir) if \"historical\" in file and var in file][0]\n",
    "        hist_file = pd.read_csv(file_dir + \"/\" + filename)\n",
    "        ssp245_file = pd.read_csv(file_dir + \"/\" + [file for file in os.listdir(file_dir) if \"ssp245\" in file and var in file][0])\n",
    "        concatenated = pd.concat([hist_file, ssp245_file]).sort_values([\"GMI_CNTRY\",\"year\"]).reset_index(drop=True).to_csv(file_dir + \"/concatenated/concat_\" + filename)\n",
    "        if gcm == \"MRI\":\n",
    "            filename = f\"aggregated_{var}_Amon_MRI-ESM2-0_hist-nat_r1i1p1f1_gn_185001-202012.shifted.csv\"\n",
    "            hist_nat1 = pd.read_csv(file_dir + f\"/aggregated_{var}_Amon_MRI-ESM2-0_hist-nat_r1i1p1f1_gn_185001-201412.shifted.csv\")\n",
    "            hist_nat2 = pd.read_csv(file_dir + f\"/aggregated_{var}_Amon_MRI-ESM2-0_hist-nat_r1i1p1f1_gn_201501-202012.shifted.csv\")\n",
    "            concatenated = pd.concat([hist_nat1, hist_nat2]).sort_values([\"GMI_CNTRY\",\"year\"]).reset_index(drop=True).to_csv(file_dir + \"/concatenated/concat_\" + filename)"
   ]
  },
  {
   "cell_type": "code",
   "execution_count": 89,
   "id": "3098472a-0c22-4663-9835-130cb9b1cf22",
   "metadata": {},
   "outputs": [],
   "source": [
    "# make climate diff data\n",
    "temp_hist_dev, temp_nat_dev, prcp_hist_dev, prcp_nat_dev = {}, {}, {}, {}\n",
    "t1, t2, p1, p2 = {}, {}, {}, {}\n",
    "t_diff, t_2_diff, p_diff, p_2_diff, = {}, {}, {}, {}\n",
    "\n",
    "for gcm in os.listdir(gcm_dir):\n",
    "    file_dir = gcm_dir + gcm + \"/crop_weighted/\"\n",
    "    for file in os.listdir(file_dir):\n",
    "        if file.endswith(\"shifted.csv\"):\n",
    "            if \"tasmax\" in file and \"hist-nat\" in file:\n",
    "                tasmax_hist_nat = pd.read_csv(file_dir + \"/\" + file)\n",
    "            elif \"tasmin\" in file and \"hist-nat\" in file:\n",
    "                tasmin_hist_nat = pd.read_csv(file_dir + \"/\" + file)\n",
    "            elif \"pr\" and \"hist-nat\" in file:\n",
    "                pr_hist_nat = pd.read_csv(file_dir + \"/\" + file)\n",
    "            elif \"tasmax\" in file and \"historical\" in file:\n",
    "                tasmax_hist = pd.read_csv(file_dir + \"/\" + file)\n",
    "            elif \"tasmin\" in file and \"historical\" in file:\n",
    "                tasmin_hist = pd.read_csv(file_dir + \"/\" + file)\n",
    "            elif \"pr\" in file and \"historical\" in file:\n",
    "                pr_hist = pd.read_csv(file_dir + \"/\" + file)\n",
    "    \n",
    "    tasmin_hist_nat = tasmin_hist_nat.loc[(tasmin_hist_nat.year <= 2020) & (tasmin_hist_nat.year >= 1961)]\n",
    "    tasmin_hist = tasmin_hist.loc[(tasmin_hist.year <= 2020) & (tasmin_hist.year >= 1961)]\n",
    "    tasmax_hist_nat = tasmax_hist_nat.loc[(tasmax_hist_nat.year <= 2020) & (tasmax_hist_nat.year >= 1961)]\n",
    "    tasmax_hist = tasmax_hist.loc[(tasmax_hist.year <= 2020) & (tasmax_hist.year >= 1961)]\n",
    "    pr_hist_nat = pr_hist_nat.loc[(pr_hist_nat.year <= 2020) & (pr_hist_nat.year >= 1961)]\n",
    "    pr_hist = pr_hist.loc[(pr_hist.year <= 2020) & (pr_hist.year >= 1961)]\n",
    "\n",
    "    tasmin_hist_nat = tasmin_hist_nat.loc[tasmin_hist_nat.GMI_CNTRY.isin(country_climate_means)]\n",
    "    tasmin_hist = tasmin_hist.loc[tasmin_hist.GMI_CNTRY.isin(country_climate_means)]\n",
    "    tasmax_hist_nat = tasmax_hist_nat.loc[tasmax_hist_nat.GMI_CNTRY.isin(country_climate_means)]\n",
    "    tasmax_hist = tasmax_hist.loc[tasmax_hist.GMI_CNTRY.isin(country_climate_means)]\n",
    "    pr_hist_nat = pr_hist_nat.loc[pr_hist_nat.GMI_CNTRY.isin(country_climate_means)]\n",
    "    pr_hist = pr_hist.loc[pr_hist.GMI_CNTRY.isin(country_climate_means)]\n",
    "\n",
    "    tmean_hist_nat = pd.DataFrame()\n",
    "    tmean_hist_nat[\"GMI_CNTRY\"] = tasmin_hist_nat[\"GMI_CNTRY\"]\n",
    "    tmean_hist_nat[\"year\"] = tasmin_hist_nat[\"year\"]\n",
    "    tmean_hist_nat[\"tmean\"] = np.nanmean([tasmin_hist_nat.tasmin, tasmax_hist_nat.tasmax], axis=0) - 273.15\n",
    "    \n",
    "    tmean_hist = pd.DataFrame()\n",
    "    tmean_hist[\"GMI_CNTRY\"] = tasmin_hist[\"GMI_CNTRY\"]\n",
    "    tmean_hist[\"year\"] = tasmin_hist[\"year\"]\n",
    "    tmean_hist[\"tmean\"] = np.nanmean([tasmin_hist.tasmin, tasmax_hist.tasmax], axis=0) - 273.15\n",
    "\n",
    "    tmean_hist[\"tmean\"] = [(row.tmean - country_climate_means[row.GMI_CNTRY][\"mean_temp\"]) + country_1961_means[row.GMI_CNTRY][\"mean_temp\"] for row in tmean_hist.itertuples()]\n",
    "    tmean_hist_nat[\"tmean\"] = [(row.tmean - country_climate_means[row.GMI_CNTRY][\"mean_temp\"]) + country_1961_means[row.GMI_CNTRY][\"mean_temp\"] for row in tmean_hist_nat.itertuples()]\n",
    "\n",
    "    pr_hist[\"pr\"] = [(1 + (row.pr - country_climate_means[row.GMI_CNTRY][\"mean_prcp\"]) / country_climate_means[row.GMI_CNTRY][\"mean_prcp\"]) * country_1961_means[row.GMI_CNTRY][\"mean_prcp\"] for row in pr_hist.itertuples()]\n",
    "    pr_hist_nat[\"pr\"] = [(1 + (row.pr - country_climate_means[row.GMI_CNTRY][\"mean_prcp\"]) / country_climate_means[row.GMI_CNTRY][\"mean_prcp\"]) * country_1961_means[row.GMI_CNTRY][\"mean_prcp\"] for row in pr_hist_nat.itertuples()]\n",
    "    \n",
    "    diff_data = pd.DataFrame()\n",
    "    diff_data[\"ISO3\"] = tmean_hist[\"GMI_CNTRY\"]\n",
    "    diff_data[\"year\"] = tmean_hist[\"year\"]\n",
    "    diff_data[\"fd_tmean\"] = [row.tmean - tmean_hist_nat.iloc[index][\"tmean\"] for index, row in enumerate(tmean_hist.itertuples())]\n",
    "    diff_data[\"fd_tmean_sq\"] = [np.square(row.tmean) - np.square(tmean_hist_nat.iloc[index][\"tmean\"]) for index, row in enumerate(tmean_hist.itertuples())]\n",
    "    diff_data[\"fd_prcp\"] = [row.pr - pr_hist_nat.iloc[index][\"pr\"] for index, row in enumerate(pr_hist.itertuples())]\n",
    "    diff_data[\"fd_prcp_sq\"] = [np.square(row.pr) - np.square(pr_hist_nat.iloc[index][\"pr\"]) for index, row in enumerate(pr_hist.itertuples())]\n",
    "    \n",
    "    diff_data.dropna().reset_index(drop=True).to_csv(file_dir + \"/clim_diff.csv\")"
   ]
  },
  {
   "cell_type": "markdown",
   "id": "2da2a8f5-269f-4d93-a05c-3881414f1855",
   "metadata": {},
   "source": [
    "# Make predictions on GCM data"
   ]
  },
  {
   "cell_type": "code",
   "execution_count": 90,
   "id": "4546343e-e0de-4b7e-81eb-b34db0fa014f",
   "metadata": {},
   "outputs": [
    {
     "name": "stdout",
     "output_type": "stream",
     "text": [
      "INFO: Loading model from cache with ID '1750282709.0485594'\n"
     ]
    }
   ],
   "source": [
    "model = api.get_model_by_id(\"1750282709.0485594\")"
   ]
  },
  {
   "cell_type": "code",
   "execution_count": 91,
   "id": "67d2f5bb-7bc1-42d5-af5b-4d90389a17ff",
   "metadata": {},
   "outputs": [
    {
     "name": "stdout",
     "output_type": "stream",
     "text": [
      "INFO: Generating out-of-sample predictions for Model with ID '1750282709.0485594' using supplied data\n",
      "INFO: Using bootstrap samples to generate predictions\n",
      "INFO: Generating out-of-sample predictions for Model with ID '1750282709.0485594' using supplied data\n",
      "INFO: Using bootstrap samples to generate predictions\n",
      "INFO: Generating out-of-sample predictions for Model with ID '1750282709.0485594' using supplied data\n",
      "INFO: Using bootstrap samples to generate predictions\n",
      "INFO: Generating out-of-sample predictions for Model with ID '1750282709.0485594' using supplied data\n",
      "INFO: Using bootstrap samples to generate predictions\n",
      "INFO: Generating out-of-sample predictions for Model with ID '1750282709.0485594' using supplied data\n",
      "INFO: Using bootstrap samples to generate predictions\n",
      "INFO: Generating out-of-sample predictions for Model with ID '1750282709.0485594' using supplied data\n",
      "INFO: Using bootstrap samples to generate predictions\n",
      "INFO: Generating out-of-sample predictions for Model with ID '1750282709.0485594' using supplied data\n",
      "INFO: Using bootstrap samples to generate predictions\n"
     ]
    }
   ],
   "source": [
    "for gcm in os.listdir(gcm_data_dir):\n",
    "    file_dir = gcm_dir + gcm + \"/crop_weighted/\"\n",
    "    if os.path.isdir(file_dir):\n",
    "        gcm_data = pd.read_csv(file_dir + \"/clim_diff.csv\")\n",
    "        predictions = api.predict_out_of_sample(model, gcm_data)\n",
    "        predictions.to_csv(f\"{reproduction_dir}/predictions/predictions_{model.model_id}_{gcm}.csv\")"
   ]
  },
  {
   "cell_type": "code",
   "execution_count": 112,
   "id": "01a3d9bf-2d76-4116-ac67-b67d15a421af",
   "metadata": {},
   "outputs": [
    {
     "name": "stdout",
     "output_type": "stream",
     "text": [
      "INFO: Called user prediction function 'cumulative_sum_of_predictions_by_geolocation'.\n",
      "INFO: Called user prediction function 'cumulative_sum_of_predictions_by_geolocation'.\n",
      "INFO: Called user prediction function 'cumulative_sum_of_predictions_by_geolocation'.\n",
      "INFO: Called user prediction function 'cumulative_sum_of_predictions_by_geolocation'.\n",
      "INFO: Called user prediction function 'cumulative_sum_of_predictions_by_geolocation'.\n",
      "INFO: Called user prediction function 'cumulative_sum_of_predictions_by_geolocation'.\n",
      "INFO: Called user prediction function 'cumulative_sum_of_predictions_by_geolocation'.\n",
      "-5.960167000262236 -25.923513077636407 2.561659357718193\n"
     ]
    }
   ],
   "source": [
    "random.seed(1)\n",
    "\n",
    "revenue_data = pd.read_csv(f\"{reproduction_dir}/revenue_shares.csv\")\n",
    "\n",
    "predictions = pd.read_csv(f\"{reproduction_dir}/predictions/predictions_{model.model_id}_BCC.csv\")\n",
    "country_weights = {}\n",
    "for row in revenue_data.itertuples():\n",
    "    if row[3] in set(predictions.ISO3):\n",
    "        country_weights[row[3]] = np.mean([row[5],row[6],row[7],row[8],row[9],row[10]])\n",
    "weight_sum = sum(list(country_weights.values()))\n",
    "for country, val in country_weights.items():\n",
    "    country_weights[country] = val/weight_sum\n",
    "\n",
    "gcm_samples = {}\n",
    "for prediction_file in os.listdir(f\"{reproduction_dir}/predictions/\"):\n",
    "    if prediction_file.endswith(\".csv\") and str(model.model_id) in prediction_file:\n",
    "        predictions = pd.read_csv(f\"{reproduction_dir}/predictions/{prediction_file}\")\n",
    "        gcm_samples[prediction_file] = api.call_user_prediction_function(\"cumulative_sum_of_predictions_by_geolocation\", [model, predictions, country_weights, [str(val) for val in list(range(0,num_bootstrap_samples))]])\n",
    "num_samples = 2000\n",
    "gcm_sample = random.choices(list(gcm_samples.keys()), k=num_samples)\n",
    "sample = random.choices(list(range(num_bootstrap_samples)), k=num_samples)\n",
    "total_impacts = []\n",
    "for year in range(0,60):\n",
    "    year_impacts = []\n",
    "    for i in range(num_samples):\n",
    "        year_impacts.append((math.exp(np.array(gcm_samples[gcm_sample[i]])[year][sample[i]])-1)*100)\n",
    "    total_impacts.append(year_impacts)\n",
    "interval_90 = np.quantile(total_impacts, [.05, .95])\n",
    "print(np.mean(total_impacts), interval_90[0], interval_90[1])"
   ]
  },
  {
   "cell_type": "code",
   "execution_count": 113,
   "id": "276b7d98-8e74-4e72-ada1-4d07db73a166",
   "metadata": {},
   "outputs": [],
   "source": [
    "total_impacts_df = pd.DataFrame.from_records(total_impacts)"
   ]
  },
  {
   "cell_type": "code",
   "execution_count": 115,
   "id": "728b2755-f61d-49e6-8821-9300fd4b33d7",
   "metadata": {},
   "outputs": [
    {
     "data": {
      "text/plain": [
       "-43.386206774234346"
      ]
     },
     "execution_count": 115,
     "metadata": {},
     "output_type": "execute_result"
    }
   ],
   "source": [
    "percentile_5[-1]"
   ]
  },
  {
   "cell_type": "code",
   "execution_count": 116,
   "id": "90fd05ea-efa5-4f1c-8fc9-5f7129c841c4",
   "metadata": {},
   "outputs": [
    {
     "data": {
      "text/plain": [
       "-9.397886631340432"
      ]
     },
     "execution_count": 116,
     "metadata": {},
     "output_type": "execute_result"
    }
   ],
   "source": [
    "percentile_95[-1]"
   ]
  },
  {
   "cell_type": "code",
   "execution_count": 117,
   "id": "317c5747-c3de-40d4-99fb-0bc541470d22",
   "metadata": {},
   "outputs": [
    {
     "data": {
      "text/plain": [
       "-21.10148729728911"
      ]
     },
     "execution_count": 117,
     "metadata": {},
     "output_type": "execute_result"
    }
   ],
   "source": [
    "np.mean(total_impacts_df, axis=1)[59]"
   ]
  },
  {
   "cell_type": "code",
   "execution_count": 114,
   "id": "98cb052b-da93-42bf-9e98-b897eeac42dd",
   "metadata": {},
   "outputs": [
    {
     "data": {
      "image/png": "[encoded data removed]",
      "text/plain": [
       "<Figure size 640x480 with 1 Axes>"
      ]
     },
     "metadata": {},
     "output_type": "display_data"
    }
   ],
   "source": [
    "for col in total_impacts_df.columns:\n",
    "    plt.plot(total_impacts_df[col], color=\"lightgray\", zorder=1)\n",
    "plt.plot(np.mean(total_impacts_df, axis=1), linewidth=2, zorder=3)\n",
    "percentile_5 = np.quantile(total_impacts_df, .05, axis=1)\n",
    "percentile_95 = np.quantile(total_impacts_df, .95, axis=1)\n",
    "plt.fill_between(list(range(0,60)), percentile_5, percentile_95, color=\"steelblue\", alpha=.3, zorder=2)\n",
    "plt.axhline(y=0, color=\"black\", linestyle='--', zorder=0)\n",
    "plt.xlabel(\"Year\", fontweight=\"bold\", size=12)\n",
    "plt.xticks([i for i in range(0,len(total_impacts_df)+1)],[1962+i if (1960+i) % 10 == 0 else \"\" for i in range(0,len(total_impacts_df)+1)])\n",
    "plt.ylabel(\"Impact on Global Average TFP (%)\", fontweight=\"bold\", size=12)\n",
    "plt.savefig(\"../figures/ortiz_reproduction.png\")"
   ]
  }
 ],
 "metadata": {
  "kernelspec": {
   "display_name": "Python 3 (ipykernel)",
   "language": "python",
   "name": "python3"
  },
  "language_info": {
   "codemirror_mode": {
    "name": "ipython",
    "version": 3
   },
   "file_extension": ".py",
   "mimetype": "text/x-python",
   "name": "python",
   "nbconvert_exporter": "python",
   "pygments_lexer": "ipython3",
   "version": "3.10.12"
  }
 },
 "nbformat": 4,
 "nbformat_minor": 5
}
