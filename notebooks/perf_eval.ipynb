{
 "cells": [
  {
   "cell_type": "code",
   "execution_count": null,
   "id": "4bf94903-0de7-4441-b339-8e8e20d2c3b3",
   "metadata": {},
   "outputs": [
    {
     "name": "stdout",
     "output_type": "stream",
     "text": [
      "INFO: Setting dataset 'synth_data' as active dataset and resetting current model.\n",
      "INFO: Dataset 'synth_data' saved to file path /home/hayden-freedman/climate_econometrics_toolkit/data/synth_data.csv\n",
      "INFO: Evalating non-random-effects model using standard error type 'nonrobust'\n",
      "INFO: Demeaning applied: True\n"
     ]
    },
    {
     "name": "stderr",
     "output_type": "stream",
     "text": [
      "/home/hayden-freedman/.local/lib/python3.10/site-packages/pyfixest/estimation/demean_.py:229: NumbaWarning: \u001b[1m\u001b[1mThe TBB threading layer requires TBB version 2021 update 6 or later i.e., TBB_INTERFACE_VERSION >= 12060. Found TBB_INTERFACE_VERSION = 12050. The TBB threading layer is disabled.\u001b[0m\u001b[0m\n",
      "  n_threads = nb.get_num_threads()\n"
     ]
    },
    {
     "name": "stdout",
     "output_type": "stream",
     "text": [
      "INFO: Splitting data using technique 'random' with 10 cross-validation folds.\n"
     ]
    }
   ],
   "source": [
    "import pandas as pd\n",
    "import numpy as np\n",
    "from climate_econometrics_toolkit import user_api as api\n",
    "import time\n",
    "\n",
    "# configure number of rows in dataset\n",
    "nrows = 10000000\n",
    "# configure number of fixed-effect dimensions\n",
    "nfe = 100000\n",
    "synth_data = pd.DataFrame()\n",
    "synth_data[\"target\"] = np.random.normal(0, 1, nrows)\n",
    "synth_data[\"cov1\"] = np.random.normal(0, 1, nrows)\n",
    "synth_data[\"fe1\"] = np.random.choice(list(range(nfe)), nrows)\n",
    "\n",
    "api.set_dataset(synth_data, \"synth_data\")\n",
    "api.set_panel_column(\"fe1\")\n",
    "api.set_time_column(\"fe1\")\n",
    "api.set_target_variable(\"target\")\n",
    "api.add_covariates(\"cov1\")\n",
    "api.add_fixed_effects(\"fe1\")\n",
    "\n",
    "start = time.time()\n",
    "api.evaluate_model_with_OLS()\n",
    "end = time.time()\n",
    "print(end-start)"
   ]
  }
 ],
 "metadata": {
  "kernelspec": {
   "display_name": "Python 3 (ipykernel)",
   "language": "python",
   "name": "python3"
  },
  "language_info": {
   "codemirror_mode": {
    "name": "ipython",
    "version": 3
   },
   "file_extension": ".py",
   "mimetype": "text/x-python",
   "name": "python",
   "nbconvert_exporter": "python",
   "pygments_lexer": "ipython3",
   "version": "3.10.12"
  }
 },
 "nbformat": 4,
 "nbformat_minor": 5
}
